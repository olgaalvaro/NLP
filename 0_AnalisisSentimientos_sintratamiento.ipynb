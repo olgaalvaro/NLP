{
 "cells": [
  {
   "cell_type": "markdown",
   "metadata": {},
   "source": [
    "# Análisis de sentimientos"
   ]
  },
  {
   "cell_type": "markdown",
   "metadata": {},
   "source": [
    "Es el proceso mediante el cual se busca detectar en un fragmento de texto los siguientes apartados:\n",
    "    \n",
    "    - Subjetividad, diferencia el contenido objetivo (hechos) del subjetivo (opiniones)\n",
    "    - Polaridad, u orientación media de la emoción expresada. En general, positivo vs negativo y en ocasiones neutro.\n",
    "    - Intensidad, fuerza del sentimiento u opinión expresada a veces en los documentos."
   ]
  },
  {
   "cell_type": "markdown",
   "metadata": {},
   "source": [
    "### Librerías y funciones necesarias"
   ]
  },
  {
   "cell_type": "code",
   "execution_count": 1,
   "metadata": {},
   "outputs": [],
   "source": [
    "import pandas as pd\n",
    "import numpy as np\n",
    "import gzip\n",
    "import os\n",
    "import random\n",
    "import operator\n",
    "\n",
    "import matplotlib.pyplot as plt # para dibujar\n",
    "%matplotlib inline\n",
    "\n",
    "from sklearn.model_selection import train_test_split\n",
    "from sklearn.feature_extraction.text import CountVectorizer, TfidfVectorizer\n",
    "from sklearn.feature_selection import chi2\n",
    "from collections import Counter\n",
    "from sklearn.linear_model import LogisticRegression\n",
    "from sklearn.metrics import accuracy_score, confusion_matrix, classification_report, roc_curve\n",
    "from sklearn.ensemble import RandomForestClassifier\n",
    "from sklearn.model_selection import GridSearchCV\n",
    "\n",
    "import warnings\n",
    "warnings.filterwarnings('ignore')\n",
    "\n",
    "# Sets the value of the specified option\n",
    "pd.set_option('display.max_rows', None)\n",
    "pd.set_option('display.max_columns', None)\n",
    "pd.set_option('display.max_colwidth', -1)"
   ]
  },
  {
   "cell_type": "code",
   "execution_count": 2,
   "metadata": {},
   "outputs": [],
   "source": [
    "# Functions to read data json.gz a pandas data frame\n",
    "def parse(path):\n",
    "  g = gzip.open(path, 'rb')\n",
    "  for l in g:\n",
    "    yield eval(l)\n",
    "\n",
    "def getDF(path):\n",
    "  i = 0\n",
    "  df = {}\n",
    "  for d in parse(path):\n",
    "    df[i] = d\n",
    "    i += 1\n",
    "  return pd.DataFrame.from_dict(df, orient='index')"
   ]
  },
  {
   "cell_type": "code",
   "execution_count": 3,
   "metadata": {},
   "outputs": [],
   "source": [
    "# Función que realiza comprobaciones sobre una columna de un dataframe\n",
    "def check_column(df, col_name):\n",
    "    values_unique = len(df[col_name].unique())\n",
    "    values_nan = df[col_name].isnull().sum()\n",
    "    portmissing = round((df[col_name].isnull().sum()/len(df))*100, 4)\n",
    "    \n",
    "    print (f'{col_name} consta de: {values_unique} valores distintos de un total de {len(df)}')\n",
    "    print (f'{col_name} consta de: {values_nan} valores ausentes, {portmissing}%')"
   ]
  },
  {
   "cell_type": "code",
   "execution_count": 4,
   "metadata": {},
   "outputs": [],
   "source": [
    "# Función que cambiar el orden de una columna\n",
    "def change_column_order(df, col_name, index):\n",
    "    cols = df.columns.tolist()\n",
    "    cols.remove(col_name)\n",
    "    cols.insert(index, col_name)\n",
    "    return df[cols]"
   ]
  },
  {
   "cell_type": "code",
   "execution_count": 5,
   "metadata": {},
   "outputs": [],
   "source": [
    "# Función que devuelve un subconjunto de un dataframe balanceado por la columna indicada  \n",
    "def balance_df(df, col_name, n_registros):\n",
    "        \n",
    "    # Aleatoriamente selecciona n_overall registros de cada grupo de la columna o variable indicada\n",
    "    # reset_index: Reset the index of the DataFrame, and use the default one instead \n",
    "    df_result = df.groupby(col_name, as_index=False).apply(lambda x: x.sample(n=n_registros)).reset_index(drop=True)\n",
    "\n",
    "    return df_result"
   ]
  },
  {
   "cell_type": "code",
   "execution_count": 6,
   "metadata": {},
   "outputs": [],
   "source": [
    "# Función que dibuja la matriz de confusión\n",
    "def plot_confusion_matrix(confmat):\n",
    "    fig, ax = plt.subplots(figsize=(7, 7))\n",
    "    ax.matshow(confmat, cmap=plt.cm.Blues, alpha=0.5)\n",
    "    for i in range(confmat.shape[0]):\n",
    "        for j in range(confmat.shape[1]):\n",
    "            ax.text(x=j, y=i, s=confmat[i, j], va='center', ha='center')\n",
    "\n",
    "    plt.xlabel('Predicciones')\n",
    "    plt.ylabel('Ground Truth')\n",
    "\n",
    "    plt.tight_layout()\n",
    "    plt.show()"
   ]
  },
  {
   "cell_type": "markdown",
   "metadata": {},
   "source": [
    "### Carga de datos de varios datasets"
   ]
  },
  {
   "cell_type": "markdown",
   "metadata": {},
   "source": [
    "Desde Amazon product data (Files \"small\" subsets for experimentation) con URL http://jmcauley.ucsd.edu/data/amazon/ descargamos los siguientes subsets:\n",
    "    - Digital Music               (64,706 reviews)\n",
    "    - Clothing, Shoes and Jewelry (278,677 reviews)\n",
    "    - Health and Personal Care    (346,355 reviews)\n",
    "    - Sports and Outdoors         (296,337 reviews)\n",
    "    \n",
    "5-core (9.9gb) - subset of the data in which all users and items have at least 5 reviews (41.13 million reviews)"
   ]
  },
  {
   "cell_type": "code",
   "execution_count": 7,
   "metadata": {},
   "outputs": [],
   "source": [
    "# Read the data into a pandas data frame\n",
    "df_music   = getDF('reviews_Digital_Music_5.json.gz')  \n",
    "df_moda    = getDF('reviews_Clothing_Shoes_and_Jewelry_5.json.gz')\n",
    "df_health  = getDF('reviews_Health_and_Personal_Care_5.json.gz')\n",
    "df_sports  = getDF('reviews_Sports_and_Outdoors_5.json.gz')"
   ]
  },
  {
   "cell_type": "code",
   "execution_count": 8,
   "metadata": {},
   "outputs": [
    {
     "name": "stdout",
     "output_type": "stream",
     "text": [
      "Dimensiones del dataframe df_music:   (64706, 9)\n",
      "Dimensiones del dataframe df_moda:    (278677, 9)\n",
      "Dimensiones del dataframe df_health:  (346355, 9)\n",
      "Dimensiones del dataframe df_sports:  (296337, 9)\n"
     ]
    }
   ],
   "source": [
    "# Comprobamos que las dimensiones sean correctas según la URL de AMAZON\n",
    "print(f'Dimensiones del dataframe df_music:  ', df_music.shape)\n",
    "print(f'Dimensiones del dataframe df_moda:   ', df_moda.shape)\n",
    "print(f'Dimensiones del dataframe df_health: ', df_health.shape)\n",
    "print(f'Dimensiones del dataframe df_sports: ', df_sports.shape)"
   ]
  },
  {
   "cell_type": "code",
   "execution_count": 9,
   "metadata": {},
   "outputs": [
    {
     "data": {
      "text/plain": [
       "Index(['reviewerID', 'asin', 'reviewerName', 'helpful', 'reviewText',\n",
       "       'overall', 'summary', 'unixReviewTime', 'reviewTime'],\n",
       "      dtype='object')"
      ]
     },
     "execution_count": 9,
     "metadata": {},
     "output_type": "execute_result"
    }
   ],
   "source": [
    "# Todos los dataframes constan de las siguientes columnas:\n",
    "df_music.columns"
   ]
  },
  {
   "cell_type": "markdown",
   "metadata": {},
   "source": [
    "Detalle del significado de cada variable o columna:\n",
    "\n",
    "    reviewerID - ID of the reviewer, e.g. A38IRL0X2T4DPF\n",
    "    asin - ID of the product, e.g. 5555991584\n",
    "    reviewerName - name of the reviewer\n",
    "    helpful - helpfulness rating of the review, e.g. 2/3\n",
    "    reviewText - text of the review\n",
    "    overall - rating of the product\n",
    "    summary - summary of the review\n",
    "    unixReviewTime - time of the review (unix time)\n",
    "    reviewTime - time of the review (raw)"
   ]
  },
  {
   "cell_type": "code",
   "execution_count": 10,
   "metadata": {},
   "outputs": [
    {
     "name": "stdout",
     "output_type": "stream",
     "text": [
      "overall consta de: 5 valores distintos de un total de 64706\n",
      "overall consta de: 0 valores ausentes, 0.0%\n"
     ]
    },
    {
     "data": {
      "text/plain": [
       "5.0    35580\n",
       "4.0    16536\n",
       "3.0    6789 \n",
       "2.0    3010 \n",
       "1.0    2791 \n",
       "Name: overall, dtype: int64"
      ]
     },
     "execution_count": 10,
     "metadata": {},
     "output_type": "execute_result"
    }
   ],
   "source": [
    "# Analizamos las columna overall de cada dataset \n",
    "check_column(df_music, 'overall')\n",
    "df_music['overall'].value_counts().head()"
   ]
  },
  {
   "cell_type": "code",
   "execution_count": 11,
   "metadata": {},
   "outputs": [
    {
     "name": "stdout",
     "output_type": "stream",
     "text": [
      "overall consta de: 5 valores distintos de un total de 278677\n",
      "overall consta de: 0 valores ausentes, 0.0%\n"
     ]
    },
    {
     "data": {
      "text/plain": [
       "5.0    163240\n",
       "4.0    58357 \n",
       "3.0    30425 \n",
       "2.0    15463 \n",
       "1.0    11192 \n",
       "Name: overall, dtype: int64"
      ]
     },
     "execution_count": 11,
     "metadata": {},
     "output_type": "execute_result"
    }
   ],
   "source": [
    "check_column(df_moda, 'overall')\n",
    "df_moda['overall'].value_counts().head()"
   ]
  },
  {
   "cell_type": "code",
   "execution_count": 12,
   "metadata": {},
   "outputs": [
    {
     "name": "stdout",
     "output_type": "stream",
     "text": [
      "overall consta de: 5 valores distintos de un total de 346355\n",
      "overall consta de: 0 valores ausentes, 0.0%\n"
     ]
    },
    {
     "data": {
      "text/plain": [
       "5.0    211633\n",
       "4.0    68168 \n",
       "3.0    33254 \n",
       "2.0    16754 \n",
       "1.0    16546 \n",
       "Name: overall, dtype: int64"
      ]
     },
     "execution_count": 12,
     "metadata": {},
     "output_type": "execute_result"
    }
   ],
   "source": [
    "check_column(df_health, 'overall')\n",
    "df_health['overall'].value_counts().head()"
   ]
  },
  {
   "cell_type": "code",
   "execution_count": 13,
   "metadata": {},
   "outputs": [
    {
     "name": "stdout",
     "output_type": "stream",
     "text": [
      "overall consta de: 5 valores distintos de un total de 296337\n",
      "overall consta de: 0 valores ausentes, 0.0%\n"
     ]
    },
    {
     "data": {
      "text/plain": [
       "5.0    188208\n",
       "4.0    64809 \n",
       "3.0    24071 \n",
       "2.0    10204 \n",
       "1.0    9045  \n",
       "Name: overall, dtype: int64"
      ]
     },
     "execution_count": 13,
     "metadata": {},
     "output_type": "execute_result"
    }
   ],
   "source": [
    "check_column(df_sports, 'overall')\n",
    "df_sports['overall'].value_counts().head()"
   ]
  },
  {
   "cell_type": "markdown",
   "metadata": {},
   "source": [
    "### Dataframe combinando los datos "
   ]
  },
  {
   "cell_type": "markdown",
   "metadata": {},
   "source": [
    "El planteamiento es dado estos 4 datasets, extraemos de cada uno de ellos un nº de registros, exactamente 5000, teniendo en cuenta que los datos estén balanceados sobre la columna o variable overall que es la que indica el ratio del producto.\n",
    "\n",
    "De manera que consideramos dos planteamientos:\n",
    "\n",
    "    Problema de clasificación multiclase:\n",
    "     - Si el valor es 1 o 2 --> sentimiento negativo\n",
    "     - Si el valor es 3     --> sentimiento neutro\n",
    "     - Si el valor es 4 o 5 --> sentimiento positivo\n",
    "     \n",
    "     Problema de clasificación binaria:\n",
    "     - Si el valor es 1 o 2 --> sentimiento negativo\n",
    "     - Si el valor es 4 o 5 --> sentimiento positivo\n",
    "     "
   ]
  },
  {
   "cell_type": "code",
   "execution_count": 14,
   "metadata": {},
   "outputs": [
    {
     "name": "stdout",
     "output_type": "stream",
     "text": [
      "Dimensiones del dataframe dfb_music:   (5000, 9)\n"
     ]
    },
    {
     "data": {
      "text/plain": [
       "5.0    1000\n",
       "4.0    1000\n",
       "3.0    1000\n",
       "2.0    1000\n",
       "1.0    1000\n",
       "Name: overall, dtype: int64"
      ]
     },
     "execution_count": 14,
     "metadata": {},
     "output_type": "execute_result"
    }
   ],
   "source": [
    "# Obtenemos un subconjunto de los data frames con datos balanceados con respecto a la columna overall \n",
    "# exactamente 1000 registros por categoría\n",
    "# Primer con df_music\n",
    "dfb_music   = balance_df(df_music, 'overall', 1000)\n",
    "print(f'Dimensiones del dataframe dfb_music:  ', dfb_music.shape)\n",
    "\n",
    "# Comprobamos que están balanceados\n",
    "# dfb_music \n",
    "dfb_music['overall'].value_counts()"
   ]
  },
  {
   "cell_type": "code",
   "execution_count": 15,
   "metadata": {},
   "outputs": [
    {
     "name": "stdout",
     "output_type": "stream",
     "text": [
      "Dimensiones del dataframe dfb_moda:    (5000, 9)\n"
     ]
    },
    {
     "data": {
      "text/plain": [
       "5.0    1000\n",
       "4.0    1000\n",
       "3.0    1000\n",
       "2.0    1000\n",
       "1.0    1000\n",
       "Name: overall, dtype: int64"
      ]
     },
     "execution_count": 15,
     "metadata": {},
     "output_type": "execute_result"
    }
   ],
   "source": [
    "# Segundo con df_moda\n",
    "dfb_moda = balance_df(df_moda, 'overall', 1000)\n",
    "print(f'Dimensiones del dataframe dfb_moda:   ', dfb_moda.shape)\n",
    "\n",
    "# Comprobar que dfb_moda está balanceado\n",
    "dfb_moda['overall'].value_counts()"
   ]
  },
  {
   "cell_type": "code",
   "execution_count": 16,
   "metadata": {},
   "outputs": [
    {
     "name": "stdout",
     "output_type": "stream",
     "text": [
      "Dimensiones del dataframe dfb_health:  (5000, 9)\n"
     ]
    },
    {
     "data": {
      "text/plain": [
       "5.0    1000\n",
       "4.0    1000\n",
       "3.0    1000\n",
       "2.0    1000\n",
       "1.0    1000\n",
       "Name: overall, dtype: int64"
      ]
     },
     "execution_count": 16,
     "metadata": {},
     "output_type": "execute_result"
    }
   ],
   "source": [
    "# Tercero con df_health\n",
    "dfb_health  = balance_df(df_health, 'overall', 1000)\n",
    "print(f'Dimensiones del dataframe dfb_health: ', dfb_health.shape)\n",
    "\n",
    "# Comprobar que dfb_health está balanceado\n",
    "dfb_health['overall'].value_counts()"
   ]
  },
  {
   "cell_type": "code",
   "execution_count": 17,
   "metadata": {},
   "outputs": [
    {
     "name": "stdout",
     "output_type": "stream",
     "text": [
      "Dimensiones del dataframe dfb_sports:  (5000, 9)\n"
     ]
    },
    {
     "data": {
      "text/plain": [
       "5.0    1000\n",
       "4.0    1000\n",
       "3.0    1000\n",
       "2.0    1000\n",
       "1.0    1000\n",
       "Name: overall, dtype: int64"
      ]
     },
     "execution_count": 17,
     "metadata": {},
     "output_type": "execute_result"
    }
   ],
   "source": [
    "# Cuarto y último con dfb_sports\n",
    "dfb_sports  = balance_df(df_sports, 'overall', 1000)\n",
    "print(f'Dimensiones del dataframe dfb_sports: ', dfb_sports.shape)\n",
    "\n",
    "# Comprobar que dfb_sports está balanceado\n",
    "dfb_sports['overall'].value_counts()"
   ]
  },
  {
   "cell_type": "code",
   "execution_count": 18,
   "metadata": {},
   "outputs": [
    {
     "name": "stdout",
     "output_type": "stream",
     "text": [
      "Dimensiones del dataframe df_amazon:  (20000, 9)\n",
      "overall consta de: 5 valores distintos de un total de 20000\n",
      "overall consta de: 0 valores ausentes, 0.0%\n"
     ]
    },
    {
     "data": {
      "text/plain": [
       "5.0    4000\n",
       "4.0    4000\n",
       "3.0    4000\n",
       "2.0    4000\n",
       "1.0    4000\n",
       "Name: overall, dtype: int64"
      ]
     },
     "execution_count": 18,
     "metadata": {},
     "output_type": "execute_result"
    }
   ],
   "source": [
    "# Append rows of df (axis = 0 por defecto)\n",
    "# ignore_index =True, do not use the index values along the concatenation axis. The resulting axis will be labeled 0, …, n - 1\n",
    "df_amazon = pd.concat([dfb_music, dfb_moda, dfb_health, dfb_sports], ignore_index=True)\n",
    "print(f'Dimensiones del dataframe df_amazon: ', df_amazon.shape)\n",
    "\n",
    "# Análisis de la columna o variable overall\n",
    "check_column(df_amazon, 'overall')\n",
    "\n",
    "# Comprobamos que está balanceado\n",
    "df_amazon['overall'].value_counts()"
   ]
  },
  {
   "cell_type": "code",
   "execution_count": 19,
   "metadata": {},
   "outputs": [
    {
     "name": "stdout",
     "output_type": "stream",
     "text": [
      "reviewText consta de: 19995 valores distintos de un total de 20000\n",
      "reviewText consta de: 0 valores ausentes, 0.0%\n"
     ]
    }
   ],
   "source": [
    "# Análisis de la columna reviewText para controlar Nan\n",
    "check_column(df_amazon, 'reviewText')"
   ]
  },
  {
   "cell_type": "code",
   "execution_count": 20,
   "metadata": {
    "scrolled": true
   },
   "outputs": [
    {
     "data": {
      "text/html": [
       "<div>\n",
       "<style scoped>\n",
       "    .dataframe tbody tr th:only-of-type {\n",
       "        vertical-align: middle;\n",
       "    }\n",
       "\n",
       "    .dataframe tbody tr th {\n",
       "        vertical-align: top;\n",
       "    }\n",
       "\n",
       "    .dataframe thead th {\n",
       "        text-align: right;\n",
       "    }\n",
       "</style>\n",
       "<table border=\"1\" class=\"dataframe\">\n",
       "  <thead>\n",
       "    <tr style=\"text-align: right;\">\n",
       "      <th></th>\n",
       "      <th>reviewerID</th>\n",
       "      <th>asin</th>\n",
       "      <th>reviewerName</th>\n",
       "      <th>helpful</th>\n",
       "      <th>reviewText</th>\n",
       "      <th>overall</th>\n",
       "      <th>summary</th>\n",
       "      <th>unixReviewTime</th>\n",
       "      <th>reviewTime</th>\n",
       "    </tr>\n",
       "  </thead>\n",
       "  <tbody>\n",
       "    <tr>\n",
       "      <td>0</td>\n",
       "      <td>A319Y60NW7HS77</td>\n",
       "      <td>B000001EGI</td>\n",
       "      <td>radiogold \"radiogold\"</td>\n",
       "      <td>[2, 21]</td>\n",
       "      <td>Tumbleweed Connection raised Elton to his initial peak audibly with the hit single Country Comfort, and that legendary epic, Burn down the mission.  It was the energy of that album that inspired the recording of 11-17-70, Live at the ANR Studios in New York City.  In reality, this album was nothing but one long horrible noise.  John's talents were wasted, with his vocals drowned in layers of instruments, which unfortunately destroyed the albums ambience.  The eighteen minute version of burn down the mission became panned out to the point of very overdone. As much as I love listening to Elton's Music, this album was a rapid fall to failure.  The modestly improved &amp;quot;madman across the water&amp;quot; and &amp;quot;Honky chateau&amp;quot;, were released in 1971 and 1972 respectively. but it would be the release of &amp;quot;Don't shoot me, I'm only the piano player&amp;quot;, and &amp;quot;Good-bye yellow brick road&amp;quot; in 1973, that would bring him back to his audible peak, and steer him well clear of this brief trench in his career.</td>\n",
       "      <td>1.0</td>\n",
       "      <td>Just a brief dip, he would improve again!</td>\n",
       "      <td>1084752000</td>\n",
       "      <td>05 17, 2004</td>\n",
       "    </tr>\n",
       "    <tr>\n",
       "      <td>1</td>\n",
       "      <td>A15HQSBVCU724Y</td>\n",
       "      <td>B0002XEDSU</td>\n",
       "      <td>Mikky Mouse</td>\n",
       "      <td>[3, 4]</td>\n",
       "      <td>Im not gonna review on this.. all i can say is that if you one of them trendy thugs that wear a rainbow colored fits &amp; clothing (gay) and dance around in the middle of the streets (like a complete moron).. then go get this album.. If your a real rap listener and knows a definition of rap &amp; Hip Hop.. avoid this album at all costs</td>\n",
       "      <td>1.0</td>\n",
       "      <td>That White Tee song is retarded</td>\n",
       "      <td>1134000000</td>\n",
       "      <td>12 8, 2005</td>\n",
       "    </tr>\n",
       "    <tr>\n",
       "      <td>2</td>\n",
       "      <td>AZ39SOZT3NZQU</td>\n",
       "      <td>B000FVQYYK</td>\n",
       "      <td>XraySpex</td>\n",
       "      <td>[4, 67]</td>\n",
       "      <td>I bought this album because I went to a lyric site and their lyrics for a song on Absolution were insightful.  Once I received the album I was consumed with disappointment.  This world is suffering from the disease of delusion, religion is the opiate of the masses, and it is more destructive than heroin.  The ignorance of musicians spouting their idiotic rhetoric, which perpetuates the myths that god exists and we have souls is sickening.  Lyrics are a main component of music and musicians have to write lyrics that people can relate to in order to provide catharsis.  Hopefully this band will cease to exist so intelligent artists will thrive in our culture and challenge the ignorance that infects everything.</td>\n",
       "      <td>1.0</td>\n",
       "      <td>Put This In A Black Hole</td>\n",
       "      <td>1184544000</td>\n",
       "      <td>07 16, 2007</td>\n",
       "    </tr>\n",
       "  </tbody>\n",
       "</table>\n",
       "</div>"
      ],
      "text/plain": [
       "       reviewerID        asin           reviewerName  helpful  \\\n",
       "0  A319Y60NW7HS77  B000001EGI  radiogold \"radiogold\"  [2, 21]   \n",
       "1  A15HQSBVCU724Y  B0002XEDSU  Mikky Mouse            [3, 4]    \n",
       "2  AZ39SOZT3NZQU   B000FVQYYK  XraySpex               [4, 67]   \n",
       "\n",
       "                                                                                                                                                                                                                                                                                                                                                                                                                                                                                                                                                                                                                                                                                                                                                                                                                                                                                                                                                                                                                                                             reviewText  \\\n",
       "0  Tumbleweed Connection raised Elton to his initial peak audibly with the hit single Country Comfort, and that legendary epic, Burn down the mission.  It was the energy of that album that inspired the recording of 11-17-70, Live at the ANR Studios in New York City.  In reality, this album was nothing but one long horrible noise.  John's talents were wasted, with his vocals drowned in layers of instruments, which unfortunately destroyed the albums ambience.  The eighteen minute version of burn down the mission became panned out to the point of very overdone. As much as I love listening to Elton's Music, this album was a rapid fall to failure.  The modestly improved &quot;madman across the water&quot; and &quot;Honky chateau&quot;, were released in 1971 and 1972 respectively. but it would be the release of &quot;Don't shoot me, I'm only the piano player&quot;, and &quot;Good-bye yellow brick road&quot; in 1973, that would bring him back to his audible peak, and steer him well clear of this brief trench in his career.   \n",
       "1  Im not gonna review on this.. all i can say is that if you one of them trendy thugs that wear a rainbow colored fits & clothing (gay) and dance around in the middle of the streets (like a complete moron).. then go get this album.. If your a real rap listener and knows a definition of rap & Hip Hop.. avoid this album at all costs                                                                                                                                                                                                                                                                                                                                                                                                                                                                                                                                                                                                                                                                                                                             \n",
       "2  I bought this album because I went to a lyric site and their lyrics for a song on Absolution were insightful.  Once I received the album I was consumed with disappointment.  This world is suffering from the disease of delusion, religion is the opiate of the masses, and it is more destructive than heroin.  The ignorance of musicians spouting their idiotic rhetoric, which perpetuates the myths that god exists and we have souls is sickening.  Lyrics are a main component of music and musicians have to write lyrics that people can relate to in order to provide catharsis.  Hopefully this band will cease to exist so intelligent artists will thrive in our culture and challenge the ignorance that infects everything.                                                                                                                                                                                                                                                                                                                           \n",
       "\n",
       "   overall                                    summary  unixReviewTime  \\\n",
       "0  1.0      Just a brief dip, he would improve again!  1084752000       \n",
       "1  1.0      That White Tee song is retarded            1134000000       \n",
       "2  1.0      Put This In A Black Hole                   1184544000       \n",
       "\n",
       "    reviewTime  \n",
       "0  05 17, 2004  \n",
       "1  12 8, 2005   \n",
       "2  07 16, 2007  "
      ]
     },
     "execution_count": 20,
     "metadata": {},
     "output_type": "execute_result"
    }
   ],
   "source": [
    "# Visualizamos las primeras filas \n",
    "df_amazon.head(3)"
   ]
  },
  {
   "cell_type": "code",
   "execution_count": 21,
   "metadata": {},
   "outputs": [],
   "source": [
    "# Guardamos el dataframe df_amazon \n",
    "# to_pickle: Pickle (serialize) object to file.\n",
    "df_amazon.to_pickle('df_amazoncompleto.pkl')"
   ]
  },
  {
   "cell_type": "code",
   "execution_count": 22,
   "metadata": {},
   "outputs": [
    {
     "name": "stdout",
     "output_type": "stream",
     "text": [
      "Dimensiones del dataframe df_newamazoncompleto:  (20000, 9)\n",
      "Dimensiones del dataframe df_amazon:  (20000, 9)\n"
     ]
    },
    {
     "data": {
      "text/plain": [
       "True"
      ]
     },
     "execution_count": 22,
     "metadata": {},
     "output_type": "execute_result"
    }
   ],
   "source": [
    "# Comprobamos que al cargar el fichero pkl no hay diferencias\n",
    "# Load pickled pandas object (or any object) from file.\n",
    "df_newamazoncompleto = pd.read_pickle('df_amazoncompleto.pkl')\n",
    "\n",
    "# Comprobamos que ambos dataframes son iguales\n",
    "print(f'Dimensiones del dataframe df_newamazoncompleto: ', df_newamazoncompleto.shape)\n",
    "print(f'Dimensiones del dataframe df_amazon: ', df_amazon.shape)\n",
    "\n",
    "df_amazon.equals(df_newamazoncompleto)"
   ]
  },
  {
   "cell_type": "code",
   "execution_count": 23,
   "metadata": {},
   "outputs": [
    {
     "name": "stdout",
     "output_type": "stream",
     "text": [
      "Dimensiones del dataframe df_amazon:  (20000, 2)\n"
     ]
    }
   ],
   "source": [
    "# Nos quedamos con las columnas necesarias para el análisis de sentimientos\n",
    "# df_amazon = df_amazon.loc[:,'reviewText:overall']\n",
    "df_amazon = df_amazon[['overall', 'reviewText']]\n",
    "\n",
    "print(f'Dimensiones del dataframe df_amazon: ', df_amazon.shape)"
   ]
  },
  {
   "cell_type": "code",
   "execution_count": 24,
   "metadata": {},
   "outputs": [],
   "source": [
    "# Función que define la etiqueta para el análisis de sentimientos multiclase\n",
    "# según el valor de la columan overall\n",
    "def label_multisentiment(row):\n",
    "    if int(row['overall']) < 3:\n",
    "        return 'neg'\n",
    "    elif int(row['overall']) == 3:\n",
    "        return 'neu'\n",
    "    else:\n",
    "        return 'pos'"
   ]
  },
  {
   "cell_type": "code",
   "execution_count": 25,
   "metadata": {},
   "outputs": [],
   "source": [
    "# Función que define la etiqueta para el análisis de sentimientos binario\n",
    "# según el valor de la columan overall\n",
    "def label_bisentiment(row):\n",
    "    if int(row['overall']) < 3:\n",
    "        return 'neg'\n",
    "    else:\n",
    "        return 'pos'"
   ]
  },
  {
   "cell_type": "code",
   "execution_count": 26,
   "metadata": {},
   "outputs": [
    {
     "name": "stdout",
     "output_type": "stream",
     "text": [
      "Dimensiones del dataframe df_amazon:  (20000, 4)\n"
     ]
    }
   ],
   "source": [
    "# Nuevas columnas en el df_amazon con la etiqueta de los sentimientos según contemplemos problema binario/multiclase\n",
    "df_amazon['sentiment_trilabel'] = df_amazon.apply(lambda row: label_multisentiment(row), axis=1)\n",
    "df_amazon['sentiment_bilabel'] = df_amazon.apply(lambda row: label_bisentiment(row), axis=1)\n",
    "\n",
    "print(f'Dimensiones del dataframe df_amazon: ', df_amazon.shape)"
   ]
  },
  {
   "cell_type": "code",
   "execution_count": 27,
   "metadata": {},
   "outputs": [
    {
     "name": "stdout",
     "output_type": "stream",
     "text": [
      "sentiment_bilabel consta de: 2 valores distintos de un total de 20000\n",
      "sentiment_bilabel consta de: 0 valores ausentes, 0.0%\n"
     ]
    },
    {
     "data": {
      "text/plain": [
       "pos    12000\n",
       "neg    8000 \n",
       "Name: sentiment_bilabel, dtype: int64"
      ]
     },
     "execution_count": 27,
     "metadata": {},
     "output_type": "execute_result"
    }
   ],
   "source": [
    "# Chequeo del la etiqueta para problema binario (analisis de sentimientos)\n",
    "check_column(df_amazon, 'sentiment_bilabel')\n",
    "df_amazon['sentiment_bilabel'].value_counts()"
   ]
  },
  {
   "cell_type": "code",
   "execution_count": 28,
   "metadata": {},
   "outputs": [
    {
     "name": "stdout",
     "output_type": "stream",
     "text": [
      "sentiment_trilabel consta de: 3 valores distintos de un total de 20000\n",
      "sentiment_trilabel consta de: 0 valores ausentes, 0.0%\n"
     ]
    },
    {
     "data": {
      "text/plain": [
       "pos    8000\n",
       "neg    8000\n",
       "neu    4000\n",
       "Name: sentiment_trilabel, dtype: int64"
      ]
     },
     "execution_count": 28,
     "metadata": {},
     "output_type": "execute_result"
    }
   ],
   "source": [
    "# Chequeo del la etiqueta para problema multiclase (analisis de sentimientos)\n",
    "check_column(df_amazon, 'sentiment_trilabel')\n",
    "df_amazon['sentiment_trilabel'].value_counts()"
   ]
  },
  {
   "cell_type": "markdown",
   "metadata": {},
   "source": [
    "En ambos casos, comprobamos que la etiqueta para el análisis de sentimientos, contabiliza correctamente los totales:\n",
    "\n",
    "    df_amazon['overall'].value_counts()\n",
    "\n",
    "    5.0    4000\n",
    "    4.0    4000\n",
    "    3.0    4000\n",
    "    2.0    4000\n",
    "    1.0    4000\n",
    "\n",
    "Por lo tanto trabajamos con una muestra balanceada."
   ]
  },
  {
   "cell_type": "code",
   "execution_count": 29,
   "metadata": {},
   "outputs": [
    {
     "data": {
      "text/plain": [
       "Text(0.5, 1.0, 'Distribución de sentimiento')"
      ]
     },
     "execution_count": 29,
     "metadata": {},
     "output_type": "execute_result"
    },
    {
     "data": {
      "image/png": "[encoded data removed]",
      "text/plain": [
       "<Figure size 432x288 with 1 Axes>"
      ]
     },
     "metadata": {
      "needs_background": "light"
     },
     "output_type": "display_data"
    }
   ],
   "source": [
    "# Histograma (problema binario)\n",
    "plt.hist(df_amazon['sentiment_bilabel'], bins=5)\n",
    "plt.title(\"Distribución de sentimiento\")"
   ]
  },
  {
   "cell_type": "code",
   "execution_count": 30,
   "metadata": {},
   "outputs": [
    {
     "data": {
      "text/plain": [
       "Text(0.5, 1.0, 'Distribución de sentimiento')"
      ]
     },
     "execution_count": 30,
     "metadata": {},
     "output_type": "execute_result"
    },
    {
     "data": {
      "image/png": "[encoded data removed]",
      "text/plain": [
       "<Figure size 432x288 with 1 Axes>"
      ]
     },
     "metadata": {
      "needs_background": "light"
     },
     "output_type": "display_data"
    }
   ],
   "source": [
    "# Histograma (problema multiclase)\n",
    "plt.hist(df_amazon['sentiment_trilabel'], bins=5)\n",
    "plt.title(\"Distribución de sentimiento\")"
   ]
  },
  {
   "cell_type": "code",
   "execution_count": 31,
   "metadata": {},
   "outputs": [
    {
     "data": {
      "text/html": [
       "<div>\n",
       "<style scoped>\n",
       "    .dataframe tbody tr th:only-of-type {\n",
       "        vertical-align: middle;\n",
       "    }\n",
       "\n",
       "    .dataframe tbody tr th {\n",
       "        vertical-align: top;\n",
       "    }\n",
       "\n",
       "    .dataframe thead th {\n",
       "        text-align: right;\n",
       "    }\n",
       "</style>\n",
       "<table border=\"1\" class=\"dataframe\">\n",
       "  <thead>\n",
       "    <tr style=\"text-align: right;\">\n",
       "      <th></th>\n",
       "      <th>overall</th>\n",
       "      <th>reviewText</th>\n",
       "      <th>sentiment_trilabel</th>\n",
       "      <th>sentiment_bilabel</th>\n",
       "    </tr>\n",
       "  </thead>\n",
       "  <tbody>\n",
       "    <tr>\n",
       "      <td>0</td>\n",
       "      <td>1.0</td>\n",
       "      <td>Tumbleweed Connection raised Elton to his initial peak audibly with the hit single Country Comfort, and that legendary epic, Burn down the mission.  It was the energy of that album that inspired the recording of 11-17-70, Live at the ANR Studios in New York City.  In reality, this album was nothing but one long horrible noise.  John's talents were wasted, with his vocals drowned in layers of instruments, which unfortunately destroyed the albums ambience.  The eighteen minute version of burn down the mission became panned out to the point of very overdone. As much as I love listening to Elton's Music, this album was a rapid fall to failure.  The modestly improved &amp;quot;madman across the water&amp;quot; and &amp;quot;Honky chateau&amp;quot;, were released in 1971 and 1972 respectively. but it would be the release of &amp;quot;Don't shoot me, I'm only the piano player&amp;quot;, and &amp;quot;Good-bye yellow brick road&amp;quot; in 1973, that would bring him back to his audible peak, and steer him well clear of this brief trench in his career.</td>\n",
       "      <td>neg</td>\n",
       "      <td>neg</td>\n",
       "    </tr>\n",
       "    <tr>\n",
       "      <td>1</td>\n",
       "      <td>1.0</td>\n",
       "      <td>Im not gonna review on this.. all i can say is that if you one of them trendy thugs that wear a rainbow colored fits &amp; clothing (gay) and dance around in the middle of the streets (like a complete moron).. then go get this album.. If your a real rap listener and knows a definition of rap &amp; Hip Hop.. avoid this album at all costs</td>\n",
       "      <td>neg</td>\n",
       "      <td>neg</td>\n",
       "    </tr>\n",
       "    <tr>\n",
       "      <td>2</td>\n",
       "      <td>1.0</td>\n",
       "      <td>I bought this album because I went to a lyric site and their lyrics for a song on Absolution were insightful.  Once I received the album I was consumed with disappointment.  This world is suffering from the disease of delusion, religion is the opiate of the masses, and it is more destructive than heroin.  The ignorance of musicians spouting their idiotic rhetoric, which perpetuates the myths that god exists and we have souls is sickening.  Lyrics are a main component of music and musicians have to write lyrics that people can relate to in order to provide catharsis.  Hopefully this band will cease to exist so intelligent artists will thrive in our culture and challenge the ignorance that infects everything.</td>\n",
       "      <td>neg</td>\n",
       "      <td>neg</td>\n",
       "    </tr>\n",
       "  </tbody>\n",
       "</table>\n",
       "</div>"
      ],
      "text/plain": [
       "   overall  \\\n",
       "0  1.0       \n",
       "1  1.0       \n",
       "2  1.0       \n",
       "\n",
       "                                                                                                                                                                                                                                                                                                                                                                                                                                                                                                                                                                                                                                                                                                                                                                                                                                                                                                                                                                                                                                                             reviewText  \\\n",
       "0  Tumbleweed Connection raised Elton to his initial peak audibly with the hit single Country Comfort, and that legendary epic, Burn down the mission.  It was the energy of that album that inspired the recording of 11-17-70, Live at the ANR Studios in New York City.  In reality, this album was nothing but one long horrible noise.  John's talents were wasted, with his vocals drowned in layers of instruments, which unfortunately destroyed the albums ambience.  The eighteen minute version of burn down the mission became panned out to the point of very overdone. As much as I love listening to Elton's Music, this album was a rapid fall to failure.  The modestly improved &quot;madman across the water&quot; and &quot;Honky chateau&quot;, were released in 1971 and 1972 respectively. but it would be the release of &quot;Don't shoot me, I'm only the piano player&quot;, and &quot;Good-bye yellow brick road&quot; in 1973, that would bring him back to his audible peak, and steer him well clear of this brief trench in his career.   \n",
       "1  Im not gonna review on this.. all i can say is that if you one of them trendy thugs that wear a rainbow colored fits & clothing (gay) and dance around in the middle of the streets (like a complete moron).. then go get this album.. If your a real rap listener and knows a definition of rap & Hip Hop.. avoid this album at all costs                                                                                                                                                                                                                                                                                                                                                                                                                                                                                                                                                                                                                                                                                                                             \n",
       "2  I bought this album because I went to a lyric site and their lyrics for a song on Absolution were insightful.  Once I received the album I was consumed with disappointment.  This world is suffering from the disease of delusion, religion is the opiate of the masses, and it is more destructive than heroin.  The ignorance of musicians spouting their idiotic rhetoric, which perpetuates the myths that god exists and we have souls is sickening.  Lyrics are a main component of music and musicians have to write lyrics that people can relate to in order to provide catharsis.  Hopefully this band will cease to exist so intelligent artists will thrive in our culture and challenge the ignorance that infects everything.                                                                                                                                                                                                                                                                                                                           \n",
       "\n",
       "  sentiment_trilabel sentiment_bilabel  \n",
       "0  neg                neg               \n",
       "1  neg                neg               \n",
       "2  neg                neg               "
      ]
     },
     "execution_count": 31,
     "metadata": {},
     "output_type": "execute_result"
    }
   ],
   "source": [
    "# Visualizamos las primeras filas\n",
    "df_amazon.head(3)"
   ]
  },
  {
   "cell_type": "code",
   "execution_count": 32,
   "metadata": {},
   "outputs": [],
   "source": [
    "# Función que devuelve la longitud del corpus de una columna de un dataframe\n",
    "def lenCorpus(df, col_name):\n",
    "  numTokens = set()\n",
    "  for x in df[col_name]:\n",
    "    for w in x.strip().split(' '):\n",
    "      numTokens.add(w.strip())\n",
    "  return len(numTokens)"
   ]
  },
  {
   "cell_type": "code",
   "execution_count": 33,
   "metadata": {},
   "outputs": [
    {
     "name": "stdout",
     "output_type": "stream",
     "text": [
      "Dimensiones del Corpus de df_amazon:  {159223}\n"
     ]
    }
   ],
   "source": [
    "print('Dimensiones del Corpus de df_amazon: ', {lenCorpus(df_amazon, 'reviewText')})"
   ]
  },
  {
   "cell_type": "markdown",
   "metadata": {},
   "source": [
    "### División del dataframe en train y test  (Sin tratamiento de los datos)"
   ]
  },
  {
   "cell_type": "markdown",
   "metadata": {},
   "source": [
    "Dividimos el dataframe airbnb_data en dos conjuntos, uno para training (entrenamiento) y otro para testing utizando:\n",
    "\n",
    "    train_test_split = Split arrays or matrices into random train and test subsets con los parámetros:\n",
    "      - shuffle = True   (orden aleatorio)\n",
    "      - random_state = 42 (repetitibilidad de los datos) Using an int will produce the same results across different calls.\n",
    "      - test_size = Represent the proportion of the dataset df_train 75% to include in the test split.\n",
    "      - stratify: obtener unas muestras distribuidas según la etiqueta y = df_amazon['sentiment_trilabel']"
   ]
  },
  {
   "cell_type": "code",
   "execution_count": 34,
   "metadata": {},
   "outputs": [
    {
     "name": "stdout",
     "output_type": "stream",
     "text": [
      "Datos entrenamiento: (15000, 4)\n",
      "Datos test:  (5000, 4)\n"
     ]
    }
   ],
   "source": [
    "# División del df df_amazon en train 75% y test 25%  balanceada respecto a sentiment_multilabel\n",
    "# Dataframe_ df_amazon sin aplicar preprocesado ni lemmatización\n",
    "amazon_train, amazon_test = train_test_split(\n",
    "    df_amazon,\n",
    "    train_size = 0.75,\n",
    "    test_size=0.25, \n",
    "    random_state=42,    \n",
    "    shuffle=True,       \n",
    "    stratify = df_amazon['sentiment_trilabel']  \n",
    ")\n",
    "\n",
    "print(f'Datos entrenamiento: {amazon_train.shape}')\n",
    "print(f'Datos test:  {amazon_test.shape}')"
   ]
  },
  {
   "cell_type": "code",
   "execution_count": 35,
   "metadata": {},
   "outputs": [
    {
     "data": {
      "text/html": [
       "<div>\n",
       "<style scoped>\n",
       "    .dataframe tbody tr th:only-of-type {\n",
       "        vertical-align: middle;\n",
       "    }\n",
       "\n",
       "    .dataframe tbody tr th {\n",
       "        vertical-align: top;\n",
       "    }\n",
       "\n",
       "    .dataframe thead th {\n",
       "        text-align: right;\n",
       "    }\n",
       "</style>\n",
       "<table border=\"1\" class=\"dataframe\">\n",
       "  <thead>\n",
       "    <tr style=\"text-align: right;\">\n",
       "      <th></th>\n",
       "      <th>overall</th>\n",
       "      <th>reviewText</th>\n",
       "      <th>sentiment_trilabel</th>\n",
       "      <th>sentiment_bilabel</th>\n",
       "    </tr>\n",
       "  </thead>\n",
       "  <tbody>\n",
       "    <tr>\n",
       "      <td>2606</td>\n",
       "      <td>3.0</td>\n",
       "      <td>I wouldn't say this is Waylon Jennings best record.  But it is very good.  My favorite songs on here are Waymore's Blues and I've Been A Long Time Leaving.  I had a few Waylon albums before I got this.  And I didn't get this until 1981.  The big song is Are You Sure Hank Done It This Way which is one of my favorite Waylon songs.  It has Bob Wills Is Still The King.  He does a version of I Recall A Gypsy Woman.  And I think he did the first version of The Door Is Always Open on here.  This is one of those albums that every song is good.</td>\n",
       "      <td>neu</td>\n",
       "      <td>pos</td>\n",
       "    </tr>\n",
       "    <tr>\n",
       "      <td>14234</td>\n",
       "      <td>5.0</td>\n",
       "      <td>So easy to use and fast 1 second reading. I love that it has ear and forehead readings, because I always want to double check my temperatures. I have 3 little guys under age 5 and they have periods were they get fevers after immunizations, teething, and infections. There are two buttons F1 to scan the forehead from one side to another and F2 for scan the ear. Infrared readings allow me to take a temp without even touching or waking the kids.</td>\n",
       "      <td>pos</td>\n",
       "      <td>pos</td>\n",
       "    </tr>\n",
       "    <tr>\n",
       "      <td>12250</td>\n",
       "      <td>3.0</td>\n",
       "      <td>This one is just okay, it doesn't really stimulate the clitoris as I hoped it would.  Would not buy again.</td>\n",
       "      <td>neu</td>\n",
       "      <td>pos</td>\n",
       "    </tr>\n",
       "  </tbody>\n",
       "</table>\n",
       "</div>"
      ],
      "text/plain": [
       "       overall  \\\n",
       "2606   3.0       \n",
       "14234  5.0       \n",
       "12250  3.0       \n",
       "\n",
       "                                                                                                                                                                                                                                                                                                                                                                                                                                                                                                                                                          reviewText  \\\n",
       "2606   I wouldn't say this is Waylon Jennings best record.  But it is very good.  My favorite songs on here are Waymore's Blues and I've Been A Long Time Leaving.  I had a few Waylon albums before I got this.  And I didn't get this until 1981.  The big song is Are You Sure Hank Done It This Way which is one of my favorite Waylon songs.  It has Bob Wills Is Still The King.  He does a version of I Recall A Gypsy Woman.  And I think he did the first version of The Door Is Always Open on here.  This is one of those albums that every song is good.   \n",
       "14234  So easy to use and fast 1 second reading. I love that it has ear and forehead readings, because I always want to double check my temperatures. I have 3 little guys under age 5 and they have periods were they get fevers after immunizations, teething, and infections. There are two buttons F1 to scan the forehead from one side to another and F2 for scan the ear. Infrared readings allow me to take a temp without even touching or waking the kids.                                                                                                   \n",
       "12250  This one is just okay, it doesn't really stimulate the clitoris as I hoped it would.  Would not buy again.                                                                                                                                                                                                                                                                                                                                                                                                                                                      \n",
       "\n",
       "      sentiment_trilabel sentiment_bilabel  \n",
       "2606   neu                pos               \n",
       "14234  pos                pos               \n",
       "12250  neu                pos               "
      ]
     },
     "execution_count": 35,
     "metadata": {},
     "output_type": "execute_result"
    }
   ],
   "source": [
    "amazon_train.iloc[:3]"
   ]
  },
  {
   "cell_type": "code",
   "execution_count": 36,
   "metadata": {},
   "outputs": [
    {
     "data": {
      "text/plain": [
       "pos    6000\n",
       "neg    6000\n",
       "neu    3000\n",
       "Name: sentiment_trilabel, dtype: int64"
      ]
     },
     "execution_count": 36,
     "metadata": {},
     "output_type": "execute_result"
    }
   ],
   "source": [
    "# Verificamos que las muestras están balanceadas en train para el problema multiclase\n",
    "amazon_train['sentiment_trilabel'].value_counts()"
   ]
  },
  {
   "cell_type": "code",
   "execution_count": 37,
   "metadata": {},
   "outputs": [
    {
     "data": {
      "text/plain": [
       "pos    9000\n",
       "neg    6000\n",
       "Name: sentiment_bilabel, dtype: int64"
      ]
     },
     "execution_count": 37,
     "metadata": {},
     "output_type": "execute_result"
    }
   ],
   "source": [
    "# Verificamos que las muestras están balanceadas en train para el problema binario\n",
    "amazon_train['sentiment_bilabel'].value_counts()"
   ]
  },
  {
   "cell_type": "markdown",
   "metadata": {},
   "source": [
    "### Extracción de features"
   ]
  },
  {
   "cell_type": "markdown",
   "metadata": {},
   "source": [
    "CountVectorizer\n",
    "\n",
    "    Convierte una colleción de documentos en una matriz de documentos-palabras. La codificación se realiza, por tanto, a nivel de documento, en lugar de a nivel de token.\n",
    "\n",
    "    Al ser un modelo de bag-of-words, no se codifica la información relativa a la posición de los tokens ni su contexto, solo información a si aparecen y su frecuencia.\n",
    "\n",
    "TF-IDF Vectorizer\n",
    "\n",
    "    Term Frequency - Inverse Document Frequency es una medida de feature weighting que expresa lo relevante que es una palabra en un documento, siendo este documento parte de un corpus.\n",
    "\n",
    "\n",
    "Parámetros:\n",
    "\n",
    "    max_df = 0.95 --> Filtramos el 5% de las palabras que más se repiten\n",
    "    min_df = 5    --> Eliminar palabras que no aparezcan al menos 5 veces\n",
    "    max_features = 2000 --> Filtramos el nº de características a 2500\n",
    "    ngram_range = (1, 2) --> trabajamos con palabras y bigramas\n",
    "    stop_words"
   ]
  },
  {
   "cell_type": "code",
   "execution_count": 38,
   "metadata": {},
   "outputs": [],
   "source": [
    "# CountVectorizer simple\n",
    "cv_simple = CountVectorizer()\n",
    "X_train_cv_simple = cv_simple.fit_transform(amazon_train['reviewText'])\n",
    "X_test_cv_simple = cv_simple.transform(amazon_test['reviewText'])\n",
    "\n",
    "# CountVectorizer simple + stop_words\n",
    "cv_simple_sw = CountVectorizer(stop_words='english')\n",
    "X_train_cv_simple_sw = cv_simple_sw.fit_transform(amazon_train['reviewText'])\n",
    "X_test_cv_simple_sw  = cv_simple_sw.transform(amazon_test['reviewText'])\n",
    "\n",
    "# CountVectorizer filter features\n",
    "cv_complex = CountVectorizer(ngram_range=(1, 2), max_features=2000, max_df=0.95, min_df=5)\n",
    "X_train_cv_complex = cv_complex.fit_transform(amazon_train['reviewText'])\n",
    "X_test_cv_complex = cv_complex.transform(amazon_test['reviewText'])\n",
    "\n",
    "# CountVectorizer filter features +  stop_words\n",
    "cv_complex_sw = CountVectorizer(ngram_range=(1, 2), max_features=2000, max_df=0.95, min_df=5, stop_words='english')\n",
    "X_train_cv_complex_sw = cv_complex_sw.fit_transform(amazon_train['reviewText'])\n",
    "X_test_cv_complex_sw = cv_complex_sw.transform(amazon_test['reviewText'])\n",
    "\n",
    "# TfIdfVectorizer simple\n",
    "tfidf_simple = TfidfVectorizer()\n",
    "X_train_tfidf_simple = tfidf_simple.fit_transform(amazon_train['reviewText'])\n",
    "X_test_tfidf_simple = tfidf_simple.transform(amazon_test['reviewText'])\n",
    "\n",
    "# TfIdfVectorizer simple + stop_words\n",
    "tfidf_simple_sw = TfidfVectorizer(stop_words='english')\n",
    "X_train_tfidf_simple_sw = tfidf_simple_sw.fit_transform(amazon_train['reviewText'])\n",
    "X_test_tfidf_simple_sw = tfidf_simple_sw.transform(amazon_test['reviewText'])\n",
    "\n",
    "# TfIdfVectorizer complejo (filter features)\n",
    "tfidf_complex = TfidfVectorizer(ngram_range=(1, 2), max_features=2000, max_df=0.95, min_df=5)\n",
    "X_train_tfidf_complex = tfidf_complex.fit_transform(amazon_train['reviewText'])\n",
    "X_test_tfidf_complex = tfidf_complex.transform(amazon_test['reviewText'])\n",
    "\n",
    "# TfIdfVectorizer complejo (filter features) + stop_words\n",
    "tfidf_complex_sw = TfidfVectorizer(ngram_range=(1, 2), max_features=2000, max_df=0.95, min_df=5, stop_words='english')\n",
    "X_train_tfidf_complex_sw = tfidf_complex_sw.fit_transform(amazon_train['reviewText'])\n",
    "X_test_tfidf_complex_sw = tfidf_complex_sw.transform(amazon_test['reviewText'])"
   ]
  },
  {
   "cell_type": "code",
   "execution_count": 39,
   "metadata": {},
   "outputs": [
    {
     "name": "stdout",
     "output_type": "stream",
     "text": [
      "Dimensiones del vocabulario cv_simple:        {43036}\n",
      "Dimensiones del vocabulario cv_simple_sw:     {42728}\n",
      "Dimensiones del vocabulario cv_complex:       {2000}\n",
      "Dimensiones del vocabulario cv_complex_sw:    {2000}\n",
      "Dimensiones del vocabulario tfidf_simple:     {43036}\n",
      "Dimensiones del vocabulario tfidf_simple_sw:  {42728}\n",
      "Dimensiones del vocabulario tfidf_complex:    {2000}\n",
      "Dimensiones del vocabulario tfidf_complex_sw: {2000}\n"
     ]
    }
   ],
   "source": [
    "print('Dimensiones del vocabulario cv_simple:       ', {len(cv_simple.vocabulary_)})\n",
    "print('Dimensiones del vocabulario cv_simple_sw:    ', {len(cv_simple_sw.vocabulary_)})\n",
    "print('Dimensiones del vocabulario cv_complex:      ', {len(cv_complex.vocabulary_)})\n",
    "print('Dimensiones del vocabulario cv_complex_sw:   ', {len(cv_complex_sw.vocabulary_)})\n",
    "print('Dimensiones del vocabulario tfidf_simple:    ', {len(tfidf_simple.vocabulary_)})\n",
    "print('Dimensiones del vocabulario tfidf_simple_sw: ', {len(tfidf_simple_sw.vocabulary_)})\n",
    "print('Dimensiones del vocabulario tfidf_complex:   ', {len(tfidf_complex.vocabulary_)})\n",
    "print('Dimensiones del vocabulario tfidf_complex_sw:', {len(tfidf_complex_sw.vocabulary_)})"
   ]
  },
  {
   "cell_type": "markdown",
   "metadata": {},
   "source": [
    "### TF-IDF scores en train y test sets"
   ]
  },
  {
   "cell_type": "code",
   "execution_count": 40,
   "metadata": {},
   "outputs": [
    {
     "name": "stdout",
     "output_type": "stream",
     "text": [
      "TF-IFD Simple scores train: (15000, 43036)\n",
      "TF-IFD Simple scores test:  (5000, 43036)\n"
     ]
    }
   ],
   "source": [
    "print(f'TF-IFD Simple scores train: {X_train_tfidf_simple.shape}')\n",
    "print(f'TF-IFD Simple scores test:  {X_test_tfidf_simple.shape}')"
   ]
  },
  {
   "cell_type": "code",
   "execution_count": 41,
   "metadata": {},
   "outputs": [
    {
     "name": "stdout",
     "output_type": "stream",
     "text": [
      "TF-IFD Complex scores train: (15000, 2000)\n",
      "TF-IFD Complex scores test:  (5000, 2000)\n"
     ]
    }
   ],
   "source": [
    "print(f'TF-IFD Complex scores train: {X_train_tfidf_complex.shape}')\n",
    "print(f'TF-IFD Complex scores test:  {X_test_tfidf_complex.shape}')"
   ]
  },
  {
   "cell_type": "markdown",
   "metadata": {},
   "source": [
    "### Score IDF de algunas palabras"
   ]
  },
  {
   "cell_type": "code",
   "execution_count": 42,
   "metadata": {},
   "outputs": [
    {
     "name": "stdout",
     "output_type": "stream",
     "text": [
      "Dimensiones del vocabulario tfidf_complex:    {2000}\n"
     ]
    },
    {
     "data": {
      "text/plain": [
       "{'10': 4.070522484194471,\n",
       " '100': 5.1187039192356885,\n",
       " '11': 5.337757485298373,\n",
       " '12': 4.942548877357398,\n",
       " '13': 5.625439557750154,\n",
       " '15': 4.973965073590777,\n",
       " '16': 5.853698209731134,\n",
       " '20': 4.8017416127038235,\n",
       " '25': 5.6886184593716855,\n",
       " '30': 4.9810825413596405,\n",
       " '34': 4.117589995052457,\n",
       " '40': 5.3688480723684044,\n",
       " '50': 4.757938990045431,\n",
       " '50 cent': 5.961911794371367,\n",
       " '70': 5.779590237577413,\n",
       " '80': 5.528275809296506,\n",
       " '8217': 6.926992690414954,\n",
       " '90': 5.7483376940733075,\n",
       " 'able': 4.3582045566462515,\n",
       " 'able to': 4.389335475241425,\n",
       " 'about': 2.705281532272412,\n",
       " 'about it': 5.135233221186899,\n",
       " 'about the': 4.482474101532242,\n",
       " 'about this': 4.889024396941693,\n",
       " 'above': 5.190922127047488,\n",
       " 'absolutely': 4.984660362707524,\n",
       " 'accurate': 5.497878332112135,\n",
       " 'acoustic': 5.779590237577413,\n",
       " 'across': 5.5344677795444275,\n",
       " 'actual': 5.47420858802623,\n",
       " 'actually': 3.86477067559213,\n",
       " 'add': 4.935699535511823,\n",
       " 'added': 5.434088594236806,\n",
       " 'addition': 5.598592307713966,\n",
       " 'adjust': 5.618659870764775,\n",
       " 'after': 2.8691392367752684,\n",
       " 'after the': 5.22680041471239,\n",
       " 'again': 3.4954277721364027,\n",
       " 'against': 4.991854638341552,\n",
       " 'age': 5.787558407226589,\n",
       " 'ago': 4.795789214176528,\n",
       " 'ain': 5.811851099795634,\n",
       " 'air': 5.13940859259738,\n",
       " 'album': 2.8601049744258926,\n",
       " 'album and': 4.792826249045872,\n",
       " 'album but': 5.292862165390482,\n",
       " 'album is': 4.119097154343027,\n",
       " 'album it': 5.4800737074786285,\n",
       " 'album that': 5.297752150684674,\n",
       " 'album the': 5.342872585965144,\n",
       " 'album to': 5.611925838583431,\n",
       " 'album was': 5.3076044471276855,\n",
       " 'album with': 5.725523016307137,\n",
       " 'albums': 3.9325111987626156,\n",
       " 'all': 2.297617815730045,\n",
       " 'all in': 5.3225673198043975,\n",
       " 'all of': 4.486821934468345,\n",
       " 'all over': 5.4173751132630645,\n",
       " 'all that': 5.491908165125632,\n",
       " 'all the': 3.7171576101989023,\n",
       " 'almost': 4.0269456669953705,\n",
       " 'alone': 5.363598716482261,\n",
       " 'along': 4.61445726656774,\n",
       " 'along with': 5.135233221186899,\n",
       " 'alot': 5.718032344577979,\n",
       " 'already': 4.360122102775524,\n",
       " 'also': 2.9463768935211965,\n",
       " 'also the': 5.390125470815689,\n",
       " 'alternative': 5.66004508692763,\n",
       " 'although': 4.230677745531165,\n",
       " 'always': 3.9325111987626156,\n",
       " 'am': 3.210984568912765,\n",
       " 'am not': 5.070694700049327,\n",
       " 'amazing': 5.062912559607273,\n",
       " 'amazon': 4.092309838379379,\n",
       " 'american': 5.528275809296506,\n",
       " 'amount': 5.1187039192356885,\n",
       " 'amount of': 5.400936386919905,\n",
       " 'amp': 5.763841880609273,\n",
       " 'an': 2.6185453215307923,\n",
       " 'an album': 5.312567236469815,\n",
       " 'and': 1.2210458929293764,\n",
       " 'and all': 5.540698329295063,\n",
       " 'and am': 5.278334064827573,\n",
       " 'and are': 5.374125129469248,\n",
       " 'and can': 5.039923041382574,\n",
       " 'and don': 5.3076044471276855,\n",
       " 'and even': 5.1228107011883415,\n",
       " 'and for': 5.5344677795444275,\n",
       " 'and get': 5.312567236469815,\n",
       " 'and had': 5.445388149490738,\n",
       " 'and has': 5.245234116401227,\n",
       " 'and have': 4.397272024837161,\n",
       " 'and he': 5.327605113834355,\n",
       " 'and his': 5.5344677795444275,\n",
       " 'and if': 5.195337145256604,\n",
       " 'and in': 5.348013985465562,\n",
       " 'and is': 4.611985077422352,\n",
       " 'and it': 3.2213790373098523,\n",
       " 'and just': 5.2498961295070385,\n",
       " 'and love': 5.66004508692763,\n",
       " 'and more': 5.522121943722128,\n",
       " 'and my': 4.908761879780014,\n",
       " 'and not': 4.456776756036957,\n",
       " 'and one': 5.491908165125632,\n",
       " 'and other': 5.6391384021083155,\n",
       " 'and quot': 5.231377081739801,\n",
       " 'and so': 5.559626339180582,\n",
       " 'and some': 5.5344677795444275,\n",
       " 'and that': 4.570866830492879,\n",
       " 'and the': 2.7998583053698622,\n",
       " 'and then': 4.657447451499109,\n",
       " 'and there': 5.190922127047488,\n",
       " 'and they': 4.001146544325129,\n",
       " 'and this': 4.331737983458089,\n",
       " 'and very': 5.485973429605817,\n",
       " 'and was': 4.8107371756124016,\n",
       " 'and when': 5.428486338688136,\n",
       " 'and will': 5.0211607649270515,\n",
       " 'and would': 5.353181955624005,\n",
       " 'and you': 4.552086935841283,\n",
       " 'annoying': 5.278334064827573,\n",
       " 'another': 3.5084466704181856,\n",
       " 'any': 3.067316165359017,\n",
       " 'any of': 5.400936386919905,\n",
       " 'anymore': 5.546967942308659,\n",
       " 'anyone': 4.482474101532242,\n",
       " 'anything': 3.945105823683016,\n",
       " 'anyway': 4.902139339019521,\n",
       " 'apart': 5.190922127047488,\n",
       " 'appears': 5.6391384021083155,\n",
       " 'are': 1.9449283533067343,\n",
       " 'are all': 5.674229721919586,\n",
       " 'are good': 5.400936386919905,\n",
       " 'are great': 5.1734544340070965,\n",
       " 'are just': 5.3688480723684044,\n",
       " 'are not': 4.379502554325185,\n",
       " 'are so': 5.390125470815689,\n",
       " 'are some': 5.5660161372793535,\n",
       " 'are the': 4.616935582582207,\n",
       " 'are very': 4.8228585361447465,\n",
       " 'area': 5.01375332364919,\n",
       " 'aren': 4.863299505703257,\n",
       " 'arms': 5.771685058070299,\n",
       " 'around': 3.57446048073408,\n",
       " 'around the': 4.866479158620637,\n",
       " 'arrived': 5.20422609267385,\n",
       " 'artist': 4.977517475195144,\n",
       " 'artists': 5.13940859259738,\n",
       " 'as': 2.0980791330406854,\n",
       " 'as an': 5.491908165125632,\n",
       " 'as far': 5.497878332112135,\n",
       " 'as good': 5.059044082829352,\n",
       " 'as it': 4.607058959086295,\n",
       " 'as long': 5.585434223136454,\n",
       " 'as much': 5.2498961295070385,\n",
       " 'as the': 4.00652290136151,\n",
       " 'as they': 5.400936386919905,\n",
       " 'as well': 4.031080752143174,\n",
       " 'as you': 5.337757485298373,\n",
       " 'at': 2.3517663807999347,\n",
       " 'at all': 3.9552969946892045,\n",
       " 'at first': 5.337757485298373,\n",
       " 'at least': 4.3059538663023735,\n",
       " 'at the': 3.627458962529299,\n",
       " 'at this': 5.503884356172347,\n",
       " 'attention': 5.468377667715437,\n",
       " 'available': 5.4800737074786285,\n",
       " 'average': 5.114613933984163,\n",
       " 'avoid': 5.718032344577979,\n",
       " 'away': 4.050607174493529,\n",
       " 'away from': 5.591991623682614,\n",
       " 'awesome': 5.292862165390482,\n",
       " 'awful': 5.528275809296506,\n",
       " 'baby': 5.379430181698941,\n",
       " 'back': 3.0725987978234444,\n",
       " 'back and': 5.4173751132630645,\n",
       " 'back in': 5.406385991687469,\n",
       " 'back to': 4.629420139244452,\n",
       " 'bad': 3.4817784233360243,\n",
       " 'bag': 4.699670081921456,\n",
       " 'bags': 6.10501263801204,\n",
       " 'ball': 5.733070221942519,\n",
       " 'ballad': 5.559626339180582,\n",
       " 'band': 3.937530029874558,\n",
       " 'bands': 5.102443398363908,\n",
       " 'bar': 5.434088594236806,\n",
       " 'barely': 5.522121943722128,\n",
       " 'bars': 5.933740917404671,\n",
       " 'base': 5.836748651417361,\n",
       " 'based': 5.055190513513363,\n",
       " 'based on': 5.4173751132630645,\n",
       " 'basically': 5.42291529363868,\n",
       " 'bass': 5.625439557750154,\n",
       " 'batteries': 5.342872585965144,\n",
       " 'battery': 5.114613933984163,\n",
       " 'be': 2.098678953112653,\n",
       " 'be able': 5.4173751132630645,\n",
       " 'be good': 5.434088594236806,\n",
       " 'be the': 4.699670081921456,\n",
       " 'beat': 4.654866804905617,\n",
       " 'beats': 4.654866804905617,\n",
       " 'beautiful': 4.721469310264039,\n",
       " 'became': 5.546967942308659,\n",
       " 'because': 2.833898910094506,\n",
       " 'because it': 4.346775860822628,\n",
       " 'because of': 4.694293724885075,\n",
       " 'because the': 4.841320598984482,\n",
       " 'because they': 5.190922127047488,\n",
       " 'become': 5.245234116401227,\n",
       " 'bed': 5.836748651417361,\n",
       " 'been': 3.1225548956667453,\n",
       " 'been using': 5.546967942308659,\n",
       " 'before': 3.5117280515413634,\n",
       " 'beginning': 5.618659870764775,\n",
       " 'behind': 5.208700373068772,\n",
       " 'being': 3.6892951113061656,\n",
       " 'believe': 4.580390712004133,\n",
       " 'below': 5.585434223136454,\n",
       " 'belt': 5.5660161372793535,\n",
       " 'best': 3.2861224554873782,\n",
       " 'better': 2.9482460529439,\n",
       " 'better than': 4.365896902269407,\n",
       " 'between': 4.395281974429151,\n",
       " 'big': 3.5519681830568217,\n",
       " 'bigger': 5.254579978819465,\n",
       " 'biggest': 5.406385991687469,\n",
       " 'bike': 5.074608599370464,\n",
       " 'bit': 3.530807850576343,\n",
       " 'bit of': 5.15204033950328,\n",
       " 'black': 4.409296217803963,\n",
       " 'blade': 5.126934418372204,\n",
       " 'blades': 5.971481245387517,\n",
       " 'blood': 5.725523016307137,\n",
       " 'blue': 5.106483807900913,\n",
       " 'blues': 5.87094001616564,\n",
       " 'body': 4.778141697362951,\n",
       " 'bonus': 5.66004508692763,\n",
       " 'boots': 5.618659870764775,\n",
       " 'boring': 5.327605113834355,\n",
       " 'both': 3.9838703671332603,\n",
       " 'bottle': 4.8017416127038235,\n",
       " 'bottom': 4.68894611855848,\n",
       " 'bought': 3.3490447970082995,\n",
       " 'bought it': 5.4173751132630645,\n",
       " 'bought these': 5.5344677795444275,\n",
       " 'bought this': 4.533653234152444,\n",
       " 'box': 4.502189964696659,\n",
       " 'boy': 5.3688480723684044,\n",
       " 'boys': 5.725523016307137,\n",
       " 'bra': 5.497878332112135,\n",
       " 'brand': 4.413336627340968,\n",
       " 'brands': 5.491908165125632,\n",
       " 'break': 4.898844443122669,\n",
       " 'bright': 5.268764613811422,\n",
       " 'bring': 5.439722411955061,\n",
       " 'broke': 5.240593736844725,\n",
       " 'broken': 5.572447027609644,\n",
       " 'brown': 5.820081598932149,\n",
       " 'brush': 5.598592307713966,\n",
       " 'bunch': 5.710597366090461,\n",
       " 'but': 1.5946362816434947,\n",
       " 'but after': 5.66004508692763,\n",
       " 'but don': 5.3026661654871035,\n",
       " 'but for': 4.99547127881174,\n",
       " 'but he': 5.47420858802623,\n",
       " 'but if': 4.844431021398874,\n",
       " 'but it': 3.306659778836128,\n",
       " 'but not': 4.3814614188105185,\n",
       " 'but still': 5.395516319450565,\n",
       " 'but that': 4.78987203714844,\n",
       " 'but the': 3.534163558423315,\n",
       " 'but then': 5.572447027609644,\n",
       " 'but there': 5.240593736844725,\n",
       " 'but these': 5.618659870764775,\n",
       " 'but they': 4.39131371525353,\n",
       " 'but this': 4.3114233421069095,\n",
       " 'but was': 5.591991623682614,\n",
       " 'but when': 5.491908165125632,\n",
       " 'but you': 5.273537892564079,\n",
       " 'button': 5.546967942308659,\n",
       " 'buy': 3.2602310415546367,\n",
       " 'buy it': 5.363598716482261,\n",
       " 'buy this': 4.988251030838253,\n",
       " 'buying': 4.4674038486112435,\n",
       " 'by': 2.90835994992855,\n",
       " 'by the': 4.270235783700294,\n",
       " 'call': 5.094411226666644,\n",
       " 'called': 5.039923041382574,\n",
       " 'came': 3.973385343161634,\n",
       " 'came out': 5.4568168453143615,\n",
       " 'can': 2.4386372590186975,\n",
       " 'can be': 4.533653234152444,\n",
       " 'can get': 5.1228107011883415,\n",
       " 'can say': 5.317554777980853,\n",
       " 'can see': 5.468377667715437,\n",
       " 'cannot': 4.984660362707524,\n",
       " 'cant': 5.718032344577979,\n",
       " 'cap': 6.083272651375634,\n",
       " 'car': 5.553277111501924,\n",
       " 'care': 4.988251030838253,\n",
       " 'career': 5.273537892564079,\n",
       " 'careful': 5.66004508692763,\n",
       " 'carry': 5.024885164018034,\n",
       " 'case': 4.377547519489383,\n",
       " 'catchy': 5.182150140974651,\n",
       " 'cause': 5.190922127047488,\n",
       " 'cd': 3.692243516390463,\n",
       " 'cd is': 5.245234116401227,\n",
       " 'cent': 5.88848432581655,\n",
       " 'certain': 5.598592307713966,\n",
       " 'certainly': 4.977517475195144,\n",
       " 'chain': 5.981143156299255,\n",
       " 'chance': 5.317554777980853,\n",
       " 'change': 4.786926526918683,\n",
       " 'changed': 5.445388149490738,\n",
       " 'changes': 5.6958912187007655,\n",
       " 'charge': 5.653027514268983,\n",
       " 'cheap': 4.096724856588494,\n",
       " 'cheaper': 5.4173751132630645,\n",
       " 'check': 4.882530867631145,\n",
       " 'child': 5.681398211398198,\n",
       " 'china': 5.763841880609273,\n",
       " 'choice': 5.3688480723684044,\n",
       " 'chorus': 5.546967942308659,\n",
       " 'classic': 4.5177978623626505,\n",
       " 'clean': 4.670451535922315,\n",
       " 'cleaning': 5.428486338688136,\n",
       " 'clear': 5.028623486128641,\n",
       " 'clearly': 5.591991623682614,\n",
       " 'clip': 5.862281953422525,\n",
       " 'close': 4.533653234152444,\n",
       " 'close to': 5.428486338688136,\n",
       " 'clothes': 5.598592307713966,\n",
       " 'club': 5.8451875200632255,\n",
       " 'cold': 5.08248265580137,\n",
       " 'collection': 4.905445127154021,\n",
       " 'color': 4.442086040626954,\n",
       " 'colors': 5.190922127047488,\n",
       " 'come': 3.7721221955226656,\n",
       " 'comes': 4.138899781639207,\n",
       " 'comes with': 5.503884356172347,\n",
       " 'comfort': 5.546967942308659,\n",
       " 'comfortable': 3.97730435536237,\n",
       " 'comfortable and': 5.5344677795444275,\n",
       " 'coming': 4.935699535511823,\n",
       " 'commercial': 5.803687789156473,\n",
       " 'company': 5.0323758357471915,\n",
       " 'compared': 5.0667960596336705,\n",
       " 'compared to': 5.20422609267385,\n",
       " 'complete': 5.337757485298373,\n",
       " 'completely': 4.905445127154021,\n",
       " 'consider': 5.445388149490738,\n",
       " 'considering': 5.681398211398198,\n",
       " 'contains': 5.625439557750154,\n",
       " 'continue': 5.468377667715437,\n",
       " 'control': 5.598592307713966,\n",
       " 'cool': 4.726994186196009,\n",
       " 'cost': 4.905445127154021,\n",
       " 'could': 3.212201854516517,\n",
       " 'could be': 5.070694700049327,\n",
       " 'could have': 5.15204033950328,\n",
       " 'could not': 5.546967942308659,\n",
       " 'couldn': 4.8017416127038235,\n",
       " 'country': 5.292862165390482,\n",
       " 'couple': 4.354380460207848,\n",
       " 'couple of': 4.850681041744046,\n",
       " 'course': 4.755085921063024,\n",
       " 'cover': 4.611985077422352,\n",
       " 'crap': 5.428486338688136,\n",
       " 'crazy': 5.763841880609273,\n",
       " 'cream': 5.87094001616564,\n",
       " 'cup': 5.591991623682614,\n",
       " 'cut': 4.403266048777372,\n",
       " 'cute': 4.889024396941693,\n",
       " 'cuts': 5.4800737074786285,\n",
       " 'daily': 5.4173751132630645,\n",
       " 'dance': 5.278334064827573,\n",
       " 'dark': 5.1187039192356885,\n",
       " 'daughter': 5.468377667715437,\n",
       " 'day': 3.60917691769185,\n",
       " 'day and': 5.6886184593716855,\n",
       " 'days': 4.086453306266665,\n",
       " 'dead': 5.509926670628309,\n",
       " 'deal': 4.707789206359959,\n",
       " 'death': 5.733070221942519,\n",
       " 'debut': 4.908761879780014,\n",
       " 'decent': 4.604604970124729,\n",
       " 'decided': 4.781061407466286,\n",
       " 'decided to': 5.010070078232893,\n",
       " 'deep': 5.337757485298373,\n",
       " 'definitely': 4.155967690151355,\n",
       " 'delivery': 5.710597366090461,\n",
       " 'description': 5.485973429605817,\n",
       " 'design': 4.755085921063024,\n",
       " 'designed': 5.4568168453143615,\n",
       " 'despite': 5.3076044471276855,\n",
       " 'device': 5.605236850432634,\n",
       " 'did': 3.201901854338446,\n",
       " 'did not': 4.163823190091664,\n",
       " 'didn': 3.4259499737830827,\n",
       " 'die': 5.625439557750154,\n",
       " 'diet': 5.862281953422525,\n",
       " 'difference': 4.795789214176528,\n",
       " 'different': 3.75102436655803,\n",
       " 'difficult': 4.984660362707524,\n",
       " 'difficult to': 5.379430181698941,\n",
       " 'disappointed': 4.442086040626954,\n",
       " 'disc': 5.22680041471239,\n",
       " 'do': 2.732425790391151,\n",
       " 'do it': 5.516005716704692,\n",
       " 'do not': 4.14352585002799,\n",
       " 'do the': 5.428486338688136,\n",
       " 'does': 3.1628898150634304,\n",
       " 'does not': 4.218942489312743,\n",
       " 'doesn': 3.482576189632822,\n",
       " 'dog': 5.853698209731134,\n",
       " 'doing': 4.732549756040612,\n",
       " 'don': 2.6799270411751897,\n",
       " 'don get': 5.47420858802623,\n",
       " 'don have': 5.028623486128641,\n",
       " 'don know': 4.718718276892149,\n",
       " 'don like': 5.283153351263521,\n",
       " 'don think': 5.217709443011137,\n",
       " 'done': 4.431723253591407,\n",
       " 'dont': 5.024885164018034,\n",
       " 'door': 6.083272651375634,\n",
       " 'double': 5.509926670628309,\n",
       " 'doubt': 5.342872585965144,\n",
       " 'down': 3.4320014294664376,\n",
       " 'down the': 5.283153351263521,\n",
       " 'down to': 5.625439557750154,\n",
       " 'dr': 5.803687789156473,\n",
       " 'dre': 6.2214229898564515,\n",
       " 'dress': 5.337757485298373,\n",
       " 'drink': 5.787558407226589,\n",
       " 'drop': 5.653027514268983,\n",
       " 'dry': 4.956389928769269,\n",
       " 'due': 4.792826249045872,\n",
       " 'due to': 4.853820761748713,\n",
       " 'durable': 5.578919542115261,\n",
       " 'during': 4.795789214176528,\n",
       " 'during the': 5.718032344577979,\n",
       " 'each': 4.2772780663257075,\n",
       " 'earlier': 5.7406748213277385,\n",
       " 'early': 4.9810825413596405,\n",
       " 'easier': 5.353181955624005,\n",
       " 'easily': 4.32430300497057,\n",
       " 'easy': 3.8789051865270348,\n",
       " 'easy to': 4.2825925163892,\n",
       " 'eat': 5.710597366090461,\n",
       " 'edge': 5.13940859259738,\n",
       " 'effect': 5.406385991687469,\n",
       " 'effective': 5.287995975739309,\n",
       " 'effects': 5.528275809296506,\n",
       " 'effort': 5.039923041382574,\n",
       " 'either': 4.194249876722372,\n",
       " 'electric': 5.771685058070299,\n",
       " 'else': 4.4337872378122585,\n",
       " 'elton': 6.441484874633253,\n",
       " 'em': 5.961911794371367,\n",
       " 'eminem': 5.803687789156473,\n",
       " 'end': 4.116085103873036,\n",
       " 'end of': 5.278334064827573,\n",
       " 'ended': 5.2498961295070385,\n",
       " 'ended up': 5.411865457452095,\n",
       " 'ends': 5.6958912187007655,\n",
       " 'energy': 5.16913477286258,\n",
       " 'enjoy': 5.006400349343931,\n",
       " 'enough': 3.5392183290849393,\n",
       " 'enough for': 5.66004508692763,\n",
       " 'enough to': 4.575617433251477,\n",
       " 'entire': 5.0323758357471915,\n",
       " 'especially': 4.421466753424218,\n",
       " 'etc': 4.654866804905617,\n",
       " 'even': 2.847338843602857,\n",
       " 'even if': 5.522121943722128,\n",
       " 'even though': 4.984660362707524,\n",
       " 'ever': 3.84968042986854,\n",
       " 'every': 3.7721221955226656,\n",
       " 'everyone': 4.9810825413596405,\n",
       " 'everything': 4.452557340494249,\n",
       " 'exactly': 4.778141697362951,\n",
       " 'example': 5.4568168453143615,\n",
       " 'excellent': 4.657447451499109,\n",
       " 'except': 5.102443398363908,\n",
       " 'expect': 4.670451535922315,\n",
       " 'expected': 4.549764054425143,\n",
       " 'expecting': 5.509926670628309,\n",
       " 'expensive': 4.778141697362951,\n",
       " 'experience': 5.0323758357471915,\n",
       " 'extra': 4.732549756040612,\n",
       " 'extremely': 4.915428571138204,\n",
       " 'eye': 5.862281953422525,\n",
       " 'eyes': 5.509926670628309,\n",
       " 'fabric': 4.966897906367684,\n",
       " 'face': 4.8228585361447465,\n",
       " 'fact': 4.1910031206235026,\n",
       " 'fact that': 4.882530867631145,\n",
       " 'fairly': 5.1865265155744495,\n",
       " 'fall': 4.991854638341552,\n",
       " 'family': 5.625439557750154,\n",
       " 'fan': 4.259764483832999,\n",
       " 'fan of': 5.1734544340070965,\n",
       " 'fans': 4.520047582096666,\n",
       " 'far': 3.8416482581712756,\n",
       " 'far as': 5.540698329295063,\n",
       " 'fast': 4.819814393763519,\n",
       " 'fat': 5.7955905789238535,\n",
       " 'favorite': 4.4337872378122585,\n",
       " 'feature': 5.5344677795444275,\n",
       " 'features': 5.278334064827573,\n",
       " 'featuring': 5.7955905789238535,\n",
       " 'feel': 3.545998016070318,\n",
       " 'feel like': 5.312567236469815,\n",
       " 'feeling': 4.860129930941978,\n",
       " 'feels': 4.691616347114358,\n",
       " 'feels like': 5.7406748213277385,\n",
       " 'feet': 4.533653234152444,\n",
       " 'fell': 5.491908165125632,\n",
       " 'felt': 4.607058959086295,\n",
       " 'few': 3.4176885674269473,\n",
       " 'figure': 5.632265522820554,\n",
       " 'finally': 4.912089669872689,\n",
       " 'find': 3.652682158658653,\n",
       " 'fine': 4.033847005636064,\n",
       " 'finger': 5.828380401746845,\n",
       " 'finish': 5.434088594236806,\n",
       " 'fire': 5.208700373068772,\n",
       " 'first': 2.977673900243111,\n",
       " 'first album': 5.6391384021083155,\n",
       " 'first time': 5.047527640767793,\n",
       " 'fish': 6.381765639931631,\n",
       " 'fish oil': 7.181884940043744,\n",
       " 'fit': 3.265355972694892,\n",
       " 'fits': 4.342995137982722,\n",
       " 'five': 5.106483807900913,\n",
       " 'flat': 5.374125129469248,\n",
       " 'flavor': 5.462580550031111,\n",
       " 'flip': 6.010701958540799,\n",
       " 'floor': 5.611925838583431,\n",
       " 'flow': 5.42291529363868,\n",
       " 'follow': 5.327605113834355,\n",
       " 'followed': 5.667112254150722,\n",
       " 'following': 5.667112254150722,\n",
       " 'food': 5.625439557750154,\n",
       " 'foot': 4.912089669872689,\n",
       " 'for': 1.5692278652234974,\n",
       " 'for about': 5.522121943722128,\n",
       " 'for an': 5.342872585965144,\n",
       " 'for it': 5.16913477286258,\n",
       " 'for me': 3.617362502278289,\n",
       " 'for my': 3.9065678042705914,\n",
       " 'for some': 5.22680041471239,\n",
       " 'for that': 5.062912559607273,\n",
       " 'for the': 3.0045244271252693,\n",
       " 'for this': 4.540526113440206,\n",
       " 'for those': 5.445388149490738,\n",
       " 'for what': 5.6391384021083155,\n",
       " 'for years': 5.528275809296506,\n",
       " 'for you': 5.039923041382574,\n",
       " 'forget': 5.725523016307137,\n",
       " 'form': 5.337757485298373,\n",
       " 'formula': 5.756059740167219,\n",
       " 'forward': 5.434088594236806,\n",
       " 'found': 3.9325111987626156,\n",
       " 'four': 4.922140005726191,\n",
       " 'free': 4.705075500488363,\n",
       " 'fresh': 5.342872585965144,\n",
       " 'friend': 5.217709443011137,\n",
       " 'friends': 5.585434223136454,\n",
       " 'from': 2.445969497169745,\n",
       " 'from the': 3.5753357543129347,\n",
       " 'from this': 5.20422609267385,\n",
       " 'front': 4.707789206359959,\n",
       " 'full': 4.296904030782455,\n",
       " 'fully': 5.6886184593716855,\n",
       " 'fun': 4.973965073590777,\n",
       " 'funk': 5.906341943216556,\n",
       " 'funky': 5.862281953422525,\n",
       " 'funny': 5.625439557750154,\n",
       " 'future': 5.4800737074786285,\n",
       " 'game': 5.190922127047488,\n",
       " 'garbage': 5.287995975739309,\n",
       " 'gave': 4.465269376082611,\n",
       " 'gel': 5.787558407226589,\n",
       " 'get': 2.5434047751741202,\n",
       " 'get it': 4.869668953988738,\n",
       " 'get the': 4.5382299011798555,\n",
       " 'get this': 5.540698329295063,\n",
       " 'gets': 4.489002960414705,\n",
       " 'getting': 4.122118304677204,\n",
       " 'gift': 5.528275809296506,\n",
       " 'girl': 5.114613933984163,\n",
       " 'girls': 5.7483376940733075,\n",
       " 'give': 3.684400338929437,\n",
       " 'give it': 4.949445456416458,\n",
       " 'given': 5.01375332364919,\n",
       " 'gives': 5.222244598176529,\n",
       " 'giving': 5.160551029171189,\n",
       " 'glad': 5.2498961295070385,\n",
       " 'gloves': 5.952433050416823,\n",
       " 'go': 3.35957490483821,\n",
       " 'go to': 5.516005716704692,\n",
       " 'god': 5.468377667715437,\n",
       " 'goes': 4.718718276892149,\n",
       " 'going': 3.6756496754092516,\n",
       " 'going to': 4.17492560389597,\n",
       " 'gold': 5.952433050416823,\n",
       " 'gone': 5.006400349343931,\n",
       " 'gonna': 5.516005716704692,\n",
       " 'good': 2.343556996572869,\n",
       " 'good and': 5.240593736844725,\n",
       " 'good as': 5.278334064827573,\n",
       " 'good but': 5.434088594236806,\n",
       " 'good for': 4.988251030838253,\n",
       " 'good quality': 5.462580550031111,\n",
       " 'got': 3.2176980515584255,\n",
       " 'got it': 5.406385991687469,\n",
       " 'got the': 5.379430181698941,\n",
       " 'got this': 5.379430181698941,\n",
       " 'great': 2.6489386461240505,\n",
       " 'great and': 5.451086170605376,\n",
       " 'great for': 5.297752150684674,\n",
       " 'greatest': 5.217709443011137,\n",
       " 'green': 5.264014011052824,\n",
       " 'grip': 5.3225673198043975,\n",
       " 'group': 5.1734544340070965,\n",
       " 'guess': 4.585186884267626,\n",
       " 'guest': 5.853698209731134,\n",
       " 'guitar': 4.6194200559098695,\n",
       " 'gun': 4.966897906367684,\n",
       " 'guy': 5.1228107011883415,\n",
       " 'guys': 5.190922127047488,\n",
       " 'had': 2.6925239325987356,\n",
       " 'had the': 5.363598716482261,\n",
       " 'had to': 4.152842687608221,\n",
       " 'hair': 5.147812003393759,\n",
       " 'half': 4.3814614188105185,\n",
       " 'hand': 4.526827269082045,\n",
       " 'handle': 4.769433369471166,\n",
       " 'hands': 4.918778658023486,\n",
       " 'happened': 5.625439557750154,\n",
       " 'happy': 4.559088131300266,\n",
       " 'happy with': 5.374125129469248,\n",
       " 'hard': 3.6669749222155783,\n",
       " 'hard to': 4.5382299011798555,\n",
       " 'has': 2.6138473263127806,\n",
       " 'has been': 4.715974790946399,\n",
       " 'has some': 5.559626339180582,\n",
       " 'has the': 5.312567236469815,\n",
       " 'has to': 5.6958912187007655,\n",
       " 'hat': 6.2214229898564515,\n",
       " 'hate': 5.028623486128641,\n",
       " 'have': 1.9135280693085386,\n",
       " 'have been': 3.9325111987626156,\n",
       " 'have had': 5.451086170605376,\n",
       " 'have no': 5.235974790988431,\n",
       " 'have not': 5.384763527674304,\n",
       " 'have the': 4.68362695708088,\n",
       " 'have to': 3.6100831252753878,\n",
       " 'have used': 5.66004508692763,\n",
       " 'haven': 4.755085921063024,\n",
       " 'having': 4.300514143006556,\n",
       " 'he': 3.310683929135853,\n",
       " 'he has': 5.434088594236806,\n",
       " 'he is': 5.195337145256604,\n",
       " 'he was': 5.231377081739801,\n",
       " 'head': 4.573239310846509,\n",
       " 'health': 5.625439557750154,\n",
       " 'hear': 4.463139449824785,\n",
       " 'heard': 4.213954947801705,\n",
       " 'hearing': 5.428486338688136,\n",
       " 'heart': 5.024885164018034,\n",
       " 'heat': 5.667112254150722,\n",
       " 'heavy': 4.489002960414705,\n",
       " 'heel': 5.811851099795634,\n",
       " 'help': 4.293306904601606,\n",
       " 'helped': 5.667112254150722,\n",
       " 'helps': 5.327605113834355,\n",
       " 'her': 3.858939755281337,\n",
       " 'here': 3.429727840006565,\n",
       " 'here is': 5.6886184593716855,\n",
       " 'hey': 5.771685058070299,\n",
       " 'high': 3.995798937998534,\n",
       " 'higher': 5.428486338688136,\n",
       " 'highly': 4.726994186196009,\n",
       " 'highly recommend': 5.4800737074786285,\n",
       " 'him': 4.296904030782455,\n",
       " 'himself': 5.578919542115261,\n",
       " 'hip': 4.819814393763519,\n",
       " 'hip hop': 5.0323758357471915,\n",
       " 'his': 3.3680795627610443,\n",
       " 'hit': 4.342995137982722,\n",
       " 'hits': 4.78987203714844,\n",
       " 'hold': 4.360122102775524,\n",
       " 'holding': 5.710597366090461,\n",
       " 'holds': 5.353181955624005,\n",
       " 'hole': 5.803687789156473,\n",
       " 'holes': 5.853698209731134,\n",
       " 'holster': 6.09408356747985,\n",
       " 'home': 4.696978290255744,\n",
       " 'honestly': 5.585434223136454,\n",
       " 'hook': 5.66004508692763,\n",
       " 'hooks': 5.756059740167219,\n",
       " 'hop': 4.956389928769269,\n",
       " 'hope': 4.863299505703257,\n",
       " 'hoping': 5.292862165390482,\n",
       " 'horrible': 5.3076044471276855,\n",
       " 'hot': 4.675700891808459,\n",
       " 'hour': 5.485973429605817,\n",
       " 'hours': 5.059044082829352,\n",
       " 'house': 5.028623486128641,\n",
       " 'how': 3.321494845240069,\n",
       " 'how to': 5.47420858802623,\n",
       " 'however': 3.5409089465628467,\n",
       " 'however the': 5.312567236469815,\n",
       " 'huge': 4.78987203714844,\n",
       " 'hurt': 5.516005716704692,\n",
       " 'husband': 5.259285869856878,\n",
       " 'ice': 5.828380401746845,\n",
       " 'idea': 4.879299847049698,\n",
       " 'if': 2.219491573329401,\n",
       " 'if it': 4.354380460207848,\n",
       " 'if the': 4.902139339019521,\n",
       " 'if they': 5.114613933984163,\n",
       " 'if this': 5.591991623682614,\n",
       " 'if you': 2.8355690566205167,\n",
       " 'if your': 5.681398211398198,\n",
       " 'im': 5.605236850432634,\n",
       " 'imagine': 5.674229721919586,\n",
       " 'immediately': 5.348013985465562,\n",
       " 'important': 5.485973429605817,\n",
       " 'impossible': 5.66004508692763,\n",
       " 'impressed': 5.611925838583431,\n",
       " 'in': 1.6555327780367999,\n",
       " 'in all': 5.160551029171189,\n",
       " 'in and': 5.703217258792838,\n",
       " 'in fact': 5.131075211038235,\n",
       " 'in his': 5.451086170605376,\n",
       " 'in it': 5.135233221186899,\n",
       " 'in my': 3.678558063305209,\n",
       " 'in place': 5.64605884495289,\n",
       " 'in that': 5.503884356172347,\n",
       " 'in the': 2.4671373355917217,\n",
       " 'in their': 5.4800737074786285,\n",
       " 'in this': 4.5382299011798555,\n",
       " 'in your': 5.055190513513363,\n",
       " 'inch': 5.497878332112135,\n",
       " 'inches': 5.66004508692763,\n",
       " 'include': 5.509926670628309,\n",
       " 'included': 5.327605113834355,\n",
       " 'including': 5.222244598176529,\n",
       " 'ingredients': 5.756059740167219,\n",
       " 'inside': 4.673072769402189,\n",
       " 'instead': 4.3169228976729475,\n",
       " 'instead of': 4.876079232349657,\n",
       " 'instructions': 5.509926670628309,\n",
       " 'interesting': 5.028623486128641,\n",
       " 'into': 3.3532435435546493,\n",
       " 'into the': 4.4379280304782895,\n",
       " 'is': 1.4454167062516226,\n",
       " 'is about': 5.710597366090461,\n",
       " 'is all': 5.653027514268983,\n",
       " 'is also': 5.01375332364919,\n",
       " 'is an': 4.559088131300266,\n",
       " 'is better': 5.625439557750154,\n",
       " 'is bit': 5.64605884495289,\n",
       " 'is definitely': 5.718032344577979,\n",
       " 'is good': 4.291513182147579,\n",
       " 'is great': 4.3059538663023735,\n",
       " 'is in': 5.353181955624005,\n",
       " 'is it': 5.208700373068772,\n",
       " 'is just': 4.486821934468345,\n",
       " 'is little': 5.522121943722128,\n",
       " 'is more': 5.245234116401227,\n",
       " 'is much': 5.5660161372793535,\n",
       " 'is my': 5.264014011052824,\n",
       " 'is nice': 5.055190513513363,\n",
       " 'is no': 4.740941413676859,\n",
       " 'is not': 3.4913938820354664,\n",
       " 'is one': 4.478145090442656,\n",
       " 'is pretty': 4.912089669872689,\n",
       " 'is really': 5.131075211038235,\n",
       " 'is so': 4.819814393763519,\n",
       " 'is still': 4.939118342260608,\n",
       " 'is that': 4.079180546937586,\n",
       " 'is the': 3.3153993302610916,\n",
       " 'is to': 5.395516319450565,\n",
       " 'is too': 5.22680041471239,\n",
       " 'is very': 3.847378932880261,\n",
       " 'is what': 5.20422609267385,\n",
       " 'isn': 3.9825537112485137,\n",
       " 'issue': 4.9529116643929445,\n",
       " 'issues': 5.051351737206197,\n",
       " 'it': 1.3473572085016354,\n",
       " 'it again': 5.6886184593716855,\n",
       " 'it all': 5.059044082829352,\n",
       " 'it also': 4.970425246885653,\n",
       " 'it and': 4.228992825166245,\n",
       " 'it as': 5.15204033950328,\n",
       " 'it back': 5.406385991687469,\n",
       " 'it because': 5.591991623682614,\n",
       " 'it but': 4.786926526918683,\n",
       " 'it came': 5.605236850432634,\n",
       " 'it can': 5.20422609267385,\n",
       " 'it comes': 5.332668415790902,\n",
       " 'it could': 5.632265522820554,\n",
       " 'it did': 5.177792835605695,\n",
       " 'it didn': 5.348013985465562,\n",
       " 'it does': 4.27199171040256,\n",
       " 'it doesn': 4.657447451499109,\n",
       " 'it fits': 5.468377667715437,\n",
       " 'it for': 4.365896902269407,\n",
       " 'it good': 5.674229721919586,\n",
       " 'it had': 5.509926670628309,\n",
       " 'it has': 4.237445960877304,\n",
       " 'it in': 4.423509655054018,\n",
       " 'it is': 2.7787124945272152,\n",
       " 'it it': 4.792826249045872,\n",
       " 'it just': 4.383424127978367,\n",
       " 'it looks': 5.182150140974651,\n",
       " 'it makes': 5.66004508692763,\n",
       " 'it may': 5.674229721919586,\n",
       " 'it not': 4.320606143089244,\n",
       " 'it off': 5.632265522820554,\n",
       " 'it on': 4.413336627340968,\n",
       " 'it only': 5.6391384021083155,\n",
       " 'it out': 4.99547127881174,\n",
       " 'it really': 5.156286630384732,\n",
       " 'it seems': 4.838219821306234,\n",
       " 'it should': 5.509926670628309,\n",
       " 'it so': 5.156286630384732,\n",
       " 'it sounds': 5.66004508692763,\n",
       " 'it still': 5.059044082829352,\n",
       " 'it the': 4.407282118432262,\n",
       " 'it to': 3.9759963107023544,\n",
       " 'it up': 4.984660362707524,\n",
       " 'it very': 5.4173751132630645,\n",
       " 'it was': 3.2551322414706125,\n",
       " 'it wasn': 5.64605884495289,\n",
       " 'it will': 4.371705243865154,\n",
       " 'it with': 5.0211607649270515,\n",
       " 'it works': 4.696978290255744,\n",
       " 'it would': 4.134295015252459,\n",
       " 'item': 4.5428276104284855,\n",
       " 'items': 5.439722411955061,\n",
       " 'its': 3.306659778836128,\n",
       " 'itself': 4.732549756040612,\n",
       " 'ja': 6.396364439352784,\n",
       " 'jay': 5.756059740167219,\n",
       " 'jazz': 5.771685058070299,\n",
       " 'jeans': 5.733070221942519,\n",
       " 'job': 4.524562262451193,\n",
       " 'john': 5.546967942308659,\n",
       " 'junk': 5.559626339180582,\n",
       " 'just': 2.2633177750542997,\n",
       " 'just as': 5.353181955624005,\n",
       " 'just don': 5.681398211398198,\n",
       " 'just like': 5.553277111501924,\n",
       " 'just not': 5.485973429605817,\n",
       " 'just the': 5.681398211398198,\n",
       " 'keep': 3.7753256152402033,\n",
       " 'keeps': 5.3076044471276855,\n",
       " 'kept': 5.1865265155744495,\n",
       " 'kids': 5.411865457452095,\n",
       " 'kind': 4.245971161700663,\n",
       " 'kind of': 4.3505709317911805,\n",
       " 'kit': 5.681398211398198,\n",
       " 'knew': 5.337757485298373,\n",
       " 'knife': 5.062912559607273,\n",
       " 'know': 3.3221744239274527,\n",
       " 'know that': 5.497878332112135,\n",
       " 'know what': 5.1997717423244705,\n",
       " 'known': 5.22680041471239,\n",
       " 'knows': 5.572447027609644,\n",
       " 'label': 5.374125129469248,\n",
       " 'lack': 5.406385991687469,\n",
       " 'lack of': 5.667112254150722,\n",
       " 'large': 4.2425523549518775,\n",
       " 'larger': 4.860129930941978,\n",
       " 'laser': 6.000751627687631,\n",
       " 'last': 3.673715438829421,\n",
       " 'late': 5.283153351263521,\n",
       " 'later': 4.707789206359959,\n",
       " 'lead': 5.451086170605376,\n",
       " 'least': 4.110088084400662,\n",
       " 'leather': 5.485973429605817,\n",
       " 'leave': 5.051351737206197,\n",
       " 'leaves': 5.681398211398198,\n",
       " 'left': 4.49557472557794,\n",
       " 'leg': 5.7955905789238535,\n",
       " 'legs': 5.522121943722128,\n",
       " 'length': 4.988251030838253,\n",
       " 'less': 3.926272875349924,\n",
       " 'less than': 5.131075211038235,\n",
       " 'let': 4.2273107389832605,\n",
       " 'let me': 5.605236850432634,\n",
       " 'level': 5.240593736844725,\n",
       " 'life': 4.2897226713737915,\n",
       " 'light': 3.9944664927647557,\n",
       " 'like': 2.066792764250331,\n",
       " 'like it': 4.3678292700204615,\n",
       " 'like that': 5.15204033950328,\n",
       " 'like the': 3.6293056851224637,\n",
       " 'like they': 5.7406748213277385,\n",
       " 'like this': 4.409296217803963,\n",
       " 'like to': 5.42291529363868,\n",
       " 'liked': 4.662628810241106,\n",
       " 'likely': 5.528275809296506,\n",
       " 'lil': 5.718032344577979,\n",
       " 'line': 4.515553192508826,\n",
       " 'list': 5.585434223136454,\n",
       " 'listen': 4.145072640746289,\n",
       " 'listen to': 4.425556738675743,\n",
       " 'listened': 5.5344677795444275,\n",
       " 'listened to': 5.625439557750154,\n",
       " 'listening': 4.68894611855848,\n",
       " 'listening to': 4.956389928769269,\n",
       " 'little': 3.0164708111130754,\n",
       " 'little bit': 5.625439557750154,\n",
       " 'little more': 5.540698329295063,\n",
       " 'live': 4.590006170703576,\n",
       " 'll': 3.652682158658653,\n",
       " 'll be': 5.353181955624005,\n",
       " 'local': 5.6958912187007655,\n",
       " 'lock': 5.64605884495289,\n",
       " 'long': 3.38603336637764,\n",
       " 'long as': 5.66004508692763,\n",
       " 'long time': 5.327605113834355,\n",
       " 'longer': 4.515553192508826,\n",
       " 'look': 3.59389572145673,\n",
       " 'look at': 5.611925838583431,\n",
       " 'looked': 4.9529116643929445,\n",
       " 'looking': 3.871812958217543,\n",
       " 'looking for': 4.642062532659629,\n",
       " 'looks': 4.1011594536563605,\n",
       " 'looks like': 5.468377667715437,\n",
       " 'loose': 5.0211607649270515,\n",
       " 'lose': 5.363598716482261,\n",
       " 'lost': 4.807729654548446,\n",
       " 'lot': 3.633937467372502,\n",
       " 'lot of': 4.17492560389597,\n",
       " 'lots': 5.4800737074786285,\n",
       " 'lots of': 5.553277111501924,\n",
       " 'love': 3.1548066301746074,\n",
       " 'love it': 5.348013985465562,\n",
       " 'love the': 4.763669664754416,\n",
       " 'love this': 5.264014011052824,\n",
       " 'loved': 5.036142318542668,\n",
       " 'loves': 5.605236850432634,\n",
       " 'low': 4.597278930032656,\n",
       " 'lower': 5.327605113834355,\n",
       " 'lp': 5.87094001616564,\n",
       " 'lyrical': 5.763841880609273,\n",
       " 'lyrics': 4.018726442642238,\n",
       " 'lyrics are': 5.578919542115261,\n",
       " 'machine': 5.598592307713966,\n",
       " 'made': 3.1940963508842435,\n",
       " 'made in': 5.667112254150722,\n",
       " 'main': 5.462580550031111,\n",
       " 'major': 5.400936386919905,\n",
       " 'make': 3.2128110534387995,\n",
       " 'make it': 4.905445127154021,\n",
       " 'make sure': 5.522121943722128,\n",
       " 'make the': 5.491908165125632,\n",
       " 'makes': 3.81793173155396,\n",
       " 'makes it': 5.297752150684674,\n",
       " 'making': 4.502189964696659,\n",
       " 'man': 4.49557472557794,\n",
       " 'many': 3.4690999650762535,\n",
       " 'many of': 5.5344677795444275,\n",
       " 'material': 3.9617196243456716,\n",
       " 'material is': 5.516005716704692,\n",
       " 'matter': 4.853820761748713,\n",
       " 'may': 3.7753256152402033,\n",
       " 'may be': 5.010070078232893,\n",
       " 'maybe': 3.9944664927647557,\n",
       " 'me': 2.377599519895861,\n",
       " 'me and': 5.15204033950328,\n",
       " 'me but': 5.667112254150722,\n",
       " 'me it': 5.509926670628309,\n",
       " 'me the': 5.327605113834355,\n",
       " 'me to': 4.665229591941163,\n",
       " 'mean': 4.889024396941693,\n",
       " 'means': 5.135233221186899,\n",
       " 'medium': 5.22680041471239,\n",
       " 'melody': 5.779590237577413,\n",
       " 'men': 5.667112254150722,\n",
       " 'mention': 5.6886184593716855,\n",
       " 'mentioned': 5.585434223136454,\n",
       " 'metal': 4.866479158620637,\n",
       " 'michael': 6.161524848275382,\n",
       " 'mid': 5.725523016307137,\n",
       " 'middle': 5.358376772501109,\n",
       " 'might': 4.031080752143174,\n",
       " 'might be': 5.195337145256604,\n",
       " 'mind': 4.6194200559098695,\n",
       " 'mine': 4.866479158620637,\n",
       " 'minute': 5.434088594236806,\n",
       " ...}"
      ]
     },
     "execution_count": 42,
     "metadata": {},
     "output_type": "execute_result"
    }
   ],
   "source": [
    "# Diccionario con las 2000 features que hemos extraido pj de tfidf_complex\n",
    "vocab_idfcomplex = dict(zip(tfidf_complex.get_feature_names(), tfidf_complex.idf_))\n",
    "print('Dimensiones del vocabulario tfidf_complex:   ', {len(vocab_idfcomplex)})\n",
    "vocab_idfcomplex"
   ]
  },
  {
   "cell_type": "code",
   "execution_count": 43,
   "metadata": {},
   "outputs": [
    {
     "data": {
      "text/plain": [
       "[('fish oil', 7.181884940043744),\n",
       " ('omega', 7.11936458306241),\n",
       " ('8217', 6.926992690414954),\n",
       " ('tori', 6.854672028835328),\n",
       " ('shaver', 6.555429133982471),\n",
       " ('rack', 6.538334700623171),\n",
       " ('elton', 6.441484874633253),\n",
       " ('trimmer', 6.4262174025024645),\n",
       " ('ja', 6.396364439352784),\n",
       " ('fish', 6.381765639931631),\n",
       " ('scale', 6.381765639931631),\n",
       " ('the watch', 6.2720667226752065),\n",
       " ('dre', 6.2214229898564515),\n",
       " ('hat', 6.2214229898564515),\n",
       " ('the knife', 6.185055345685576),\n",
       " ('michael', 6.161524848275382),\n",
       " ('pads', 6.149964025874307),\n",
       " ('the bag', 6.12723577479675),\n",
       " ('nas', 6.116062474198626),\n",
       " ('bags', 6.10501263801204),\n",
       " ('holster', 6.09408356747985),\n",
       " ('shower', 6.09408356747985),\n",
       " ('cap', 6.083272651375634),\n",
       " ('door', 6.083272651375634),\n",
       " ('this knife', 6.072577362258887),\n",
       " ('pad', 6.06199525292835),\n",
       " ('phone', 6.06199525292835),\n",
       " ('the unit', 6.051523953061054),\n",
       " ('pump', 6.041161166025508),\n",
       " ('remix', 6.0207522943943),\n",
       " ('flip', 6.010701958540799),\n",
       " ('sugar', 6.010701958540799),\n",
       " ('laser', 6.000751627687631),\n",
       " ('protein', 6.000751627687631),\n",
       " ('chain', 5.981143156299255),\n",
       " ('powder', 5.981143156299255),\n",
       " ('seat', 5.981143156299255),\n",
       " ('stone', 5.981143156299255),\n",
       " ('vitamin', 5.981143156299255),\n",
       " ('workout', 5.981143156299255),\n",
       " ('blades', 5.971481245387517),\n",
       " ('50 cent', 5.961911794371367),\n",
       " ('em', 5.961911794371367),\n",
       " ('pink', 5.961911794371367),\n",
       " ('the shoe', 5.961911794371367),\n",
       " ('gloves', 5.952433050416823),\n",
       " ('gold', 5.952433050416823),\n",
       " ('spring', 5.943043310066984),\n",
       " ('target', 5.943043310066984),\n",
       " ('bars', 5.933740917404671),\n",
       " ('wall', 5.915391778736474),\n",
       " ('funk', 5.906341943216556),\n",
       " ('rhymes', 5.897373273233796),\n",
       " ('the battery', 5.897373273233796),\n",
       " ('cent', 5.88848432581655),\n",
       " ('blues', 5.87094001616564),\n",
       " ('cream', 5.87094001616564),\n",
       " ('lp', 5.87094001616564),\n",
       " ('clip', 5.862281953422525),\n",
       " ('diet', 5.862281953422525),\n",
       " ('eye', 5.862281953422525),\n",
       " ('funky', 5.862281953422525),\n",
       " ('tube', 5.862281953422525),\n",
       " ('16', 5.853698209731134),\n",
       " ('dog', 5.853698209731134),\n",
       " ('guest', 5.853698209731134),\n",
       " ('holes', 5.853698209731134),\n",
       " ('screw', 5.853698209731134),\n",
       " ('club', 5.8451875200632255),\n",
       " ('shaving', 5.8451875200632255),\n",
       " ('songwriting', 5.8451875200632255),\n",
       " ('the water', 5.8451875200632255),\n",
       " ('yeah', 5.8451875200632255),\n",
       " ('base', 5.836748651417361),\n",
       " ('bed', 5.836748651417361),\n",
       " ('finger', 5.828380401746845),\n",
       " ('ice', 5.828380401746845),\n",
       " ('tape', 5.828380401746845),\n",
       " ('brown', 5.820081598932149),\n",
       " ('talk', 5.820081598932149),\n",
       " ('ain', 5.811851099795634),\n",
       " ('heel', 5.811851099795634),\n",
       " ('teeth', 5.811851099795634),\n",
       " ('trash', 5.811851099795634),\n",
       " ('commercial', 5.803687789156473),\n",
       " ('dr', 5.803687789156473),\n",
       " ('eminem', 5.803687789156473),\n",
       " ('hole', 5.803687789156473),\n",
       " ('fat', 5.7955905789238535),\n",
       " ('featuring', 5.7955905789238535),\n",
       " ('leg', 5.7955905789238535),\n",
       " ('pill', 5.7955905789238535),\n",
       " ('styles', 5.7955905789238535),\n",
       " ('age', 5.787558407226589),\n",
       " ('drink', 5.787558407226589),\n",
       " ('gel', 5.787558407226589),\n",
       " ('supplements', 5.787558407226589),\n",
       " ('70', 5.779590237577413),\n",
       " ('acoustic', 5.779590237577413),\n",
       " ('melody', 5.779590237577413),\n",
       " ('sensitive', 5.779590237577413),\n",
       " ('she has', 5.779590237577413),\n",
       " ('arms', 5.771685058070299),\n",
       " ('electric', 5.771685058070299),\n",
       " ('hey', 5.771685058070299),\n",
       " ('jazz', 5.771685058070299),\n",
       " ('producer', 5.771685058070299),\n",
       " ('sizing', 5.771685058070299),\n",
       " ('amp', 5.763841880609273),\n",
       " ('china', 5.763841880609273),\n",
       " ('crazy', 5.763841880609273),\n",
       " ('lyrical', 5.763841880609273),\n",
       " ('of music', 5.763841880609273),\n",
       " ('one for', 5.763841880609273),\n",
       " ('ring', 5.763841880609273),\n",
       " ('stock', 5.763841880609273),\n",
       " ('formula', 5.756059740167219),\n",
       " ('hooks', 5.756059740167219),\n",
       " ('ingredients', 5.756059740167219),\n",
       " ('jay', 5.756059740167219),\n",
       " ('slip', 5.756059740167219),\n",
       " ('stupid', 5.756059740167219),\n",
       " ('the bottle', 5.756059740167219),\n",
       " ('this review', 5.756059740167219),\n",
       " ('tune', 5.756059740167219),\n",
       " ('when he', 5.756059740167219),\n",
       " ('90', 5.7483376940733075),\n",
       " ('girls', 5.7483376940733075),\n",
       " ('onto', 5.7483376940733075),\n",
       " ('to his', 5.7483376940733075),\n",
       " ('earlier', 5.7406748213277385),\n",
       " ('feels like', 5.7406748213277385),\n",
       " ('like they', 5.7406748213277385),\n",
       " ('rifle', 5.7406748213277385),\n",
       " ('slide', 5.7406748213277385),\n",
       " ('year old', 5.7406748213277385),\n",
       " ('ball', 5.733070221942519),\n",
       " ('death', 5.733070221942519),\n",
       " ('jeans', 5.733070221942519),\n",
       " ('sound like', 5.733070221942519),\n",
       " ('street', 5.733070221942519),\n",
       " ('album with', 5.725523016307137),\n",
       " ('blood', 5.725523016307137),\n",
       " ('boys', 5.725523016307137),\n",
       " ('forget', 5.725523016307137),\n",
       " ('mid', 5.725523016307137),\n",
       " ('wants', 5.725523016307137),\n",
       " ('alot', 5.718032344577979),\n",
       " ('avoid', 5.718032344577979),\n",
       " ('cant', 5.718032344577979),\n",
       " ('during the', 5.718032344577979),\n",
       " ('is definitely', 5.718032344577979),\n",
       " ('lil', 5.718032344577979),\n",
       " ('not fit', 5.718032344577979),\n",
       " ('period', 5.718032344577979),\n",
       " ('plan', 5.718032344577979),\n",
       " ('round', 5.718032344577979),\n",
       " ('starting', 5.718032344577979),\n",
       " ('story', 5.718032344577979),\n",
       " ('to clean', 5.718032344577979),\n",
       " ('writing', 5.718032344577979),\n",
       " ('bunch', 5.710597366090461),\n",
       " ('delivery', 5.710597366090461),\n",
       " ('eat', 5.710597366090461),\n",
       " ('holding', 5.710597366090461),\n",
       " ('is about', 5.710597366090461),\n",
       " ('opened', 5.710597366090461),\n",
       " ('question', 5.710597366090461),\n",
       " ('in and', 5.703217258792838),\n",
       " ('powerful', 5.703217258792838),\n",
       " ('sell', 5.703217258792838),\n",
       " ('the side', 5.703217258792838),\n",
       " ('changes', 5.6958912187007655),\n",
       " ('ends', 5.6958912187007655),\n",
       " ('has to', 5.6958912187007655),\n",
       " ('local', 5.6958912187007655),\n",
       " ('not work', 5.6958912187007655),\n",
       " ('off and', 5.6958912187007655),\n",
       " ('sight', 5.6958912187007655),\n",
       " ('to hold', 5.6958912187007655),\n",
       " ('toe', 5.6958912187007655),\n",
       " ('trouble', 5.6958912187007655),\n",
       " ('what was', 5.6958912187007655),\n",
       " ('25', 5.6886184593716855),\n",
       " ('day and', 5.6886184593716855),\n",
       " ('fully', 5.6886184593716855),\n",
       " ('here is', 5.6886184593716855),\n",
       " ('it again', 5.6886184593716855),\n",
       " ('mention', 5.6886184593716855),\n",
       " ('much as', 5.6886184593716855),\n",
       " ('number of', 5.6886184593716855),\n",
       " ('only one', 5.6886184593716855),\n",
       " ('purpose', 5.6886184593716855),\n",
       " ('sit', 5.6886184593716855),\n",
       " ('song and', 5.6886184593716855),\n",
       " ('stopped', 5.6886184593716855),\n",
       " ('tend', 5.6886184593716855),\n",
       " ('too many', 5.6886184593716855),\n",
       " ('child', 5.681398211398198),\n",
       " ('considering', 5.681398211398198),\n",
       " ('if your', 5.681398211398198),\n",
       " ('just don', 5.681398211398198),\n",
       " ('just the', 5.681398211398198),\n",
       " ('kit', 5.681398211398198),\n",
       " ('leaves', 5.681398211398198),\n",
       " ('older', 5.681398211398198),\n",
       " ('perfect for', 5.681398211398198),\n",
       " ('supplement', 5.681398211398198),\n",
       " ('the blade', 5.681398211398198),\n",
       " ('the light', 5.681398211398198),\n",
       " ('are all', 5.674229721919586),\n",
       " ('imagine', 5.674229721919586),\n",
       " ('it good', 5.674229721919586),\n",
       " ('it may', 5.674229721919586),\n",
       " ('see if', 5.674229721919586),\n",
       " ('sings', 5.674229721919586),\n",
       " ('the real', 5.674229721919586),\n",
       " ('tiny', 5.674229721919586),\n",
       " ('you might', 5.674229721919586),\n",
       " ('followed', 5.667112254150722),\n",
       " ('following', 5.667112254150722),\n",
       " ('heat', 5.667112254150722),\n",
       " ('helped', 5.667112254150722),\n",
       " ('lack of', 5.667112254150722),\n",
       " ('made in', 5.667112254150722),\n",
       " ('me but', 5.667112254150722),\n",
       " ('men', 5.667112254150722),\n",
       " ('now and', 5.667112254150722),\n",
       " ('properly', 5.667112254150722),\n",
       " ('seems like', 5.667112254150722),\n",
       " ('since the', 5.667112254150722),\n",
       " ('thanks', 5.667112254150722),\n",
       " ('time the', 5.667112254150722),\n",
       " ('will have', 5.667112254150722),\n",
       " ('you would', 5.667112254150722),\n",
       " ('alternative', 5.66004508692763),\n",
       " ('and love', 5.66004508692763),\n",
       " ('bonus', 5.66004508692763),\n",
       " ('but after', 5.66004508692763),\n",
       " ('careful', 5.66004508692763),\n",
       " ('enough for', 5.66004508692763),\n",
       " ('have used', 5.66004508692763),\n",
       " ('hook', 5.66004508692763),\n",
       " ('impossible', 5.66004508692763),\n",
       " ('inches', 5.66004508692763),\n",
       " ('it makes', 5.66004508692763),\n",
       " ('it sounds', 5.66004508692763),\n",
       " ('long as', 5.66004508692763),\n",
       " ('mixed', 5.66004508692763),\n",
       " ('mouth', 5.66004508692763),\n",
       " ('or so', 5.66004508692763),\n",
       " ('she is', 5.66004508692763),\n",
       " ('strange', 5.66004508692763),\n",
       " ('that could', 5.66004508692763),\n",
       " ('the tracks', 5.66004508692763),\n",
       " ('to like', 5.66004508692763),\n",
       " ('wear them', 5.66004508692763),\n",
       " ('what they', 5.66004508692763),\n",
       " ('charge', 5.653027514268983),\n",
       " ('drop', 5.653027514268983),\n",
       " ('is all', 5.653027514268983),\n",
       " ('mount', 5.653027514268983),\n",
       " ('not good', 5.653027514268983),\n",
       " ('quot the', 5.653027514268983),\n",
       " ('very comfortable', 5.653027514268983),\n",
       " ('in place', 5.64605884495289),\n",
       " ('is bit', 5.64605884495289),\n",
       " ('it wasn', 5.64605884495289),\n",
       " ('lock', 5.64605884495289),\n",
       " ('not so', 5.64605884495289),\n",
       " ('quality and', 5.64605884495289),\n",
       " ('step', 5.64605884495289),\n",
       " ('talking', 5.64605884495289),\n",
       " ('the plastic', 5.64605884495289),\n",
       " ('this time', 5.64605884495289),\n",
       " ('too long', 5.64605884495289),\n",
       " ('we have', 5.64605884495289),\n",
       " ('you ve', 5.64605884495289),\n",
       " ('and other', 5.6391384021083155),\n",
       " ('appears', 5.6391384021083155),\n",
       " ('first album', 5.6391384021083155),\n",
       " ('for what', 5.6391384021083155),\n",
       " ('it only', 5.6391384021083155),\n",
       " ('only thing', 5.6391384021083155),\n",
       " ('scope', 5.6391384021083155),\n",
       " ('song that', 5.6391384021083155),\n",
       " ('the middle', 5.6391384021083155),\n",
       " ('think the', 5.6391384021083155),\n",
       " ('video', 5.6391384021083155),\n",
       " ('figure', 5.632265522820554),\n",
       " ('it could', 5.632265522820554),\n",
       " ('it off', 5.632265522820554),\n",
       " ('out to', 5.632265522820554),\n",
       " ('paper', 5.632265522820554),\n",
       " ('put on', 5.632265522820554),\n",
       " ('seriously', 5.632265522820554),\n",
       " ('than this', 5.632265522820554),\n",
       " ('that not', 5.632265522820554),\n",
       " ('they fit', 5.632265522820554),\n",
       " ('to know', 5.632265522820554),\n",
       " ('weird', 5.632265522820554),\n",
       " ('word', 5.632265522820554),\n",
       " ('zero', 5.632265522820554),\n",
       " ('13', 5.625439557750154),\n",
       " ('bass', 5.625439557750154),\n",
       " ('contains', 5.625439557750154),\n",
       " ('die', 5.625439557750154),\n",
       " ('down to', 5.625439557750154),\n",
       " ('family', 5.625439557750154),\n",
       " ('food', 5.625439557750154),\n",
       " ('funny', 5.625439557750154),\n",
       " ('happened', 5.625439557750154),\n",
       " ('health', 5.625439557750154),\n",
       " ('is better', 5.625439557750154),\n",
       " ('listened to', 5.625439557750154),\n",
       " ('little bit', 5.625439557750154),\n",
       " ('or two', 5.625439557750154),\n",
       " ('pure', 5.625439557750154),\n",
       " ('ready', 5.625439557750154),\n",
       " ('the good', 5.625439557750154),\n",
       " ('waste of', 5.625439557750154),\n",
       " ('worth it', 5.625439557750154),\n",
       " ('adjust', 5.618659870764775),\n",
       " ('beginning', 5.618659870764775),\n",
       " ('boots', 5.618659870764775),\n",
       " ('but these', 5.618659870764775),\n",
       " ('narrow', 5.618659870764775),\n",
       " ('positive', 5.618659870764775),\n",
       " ('seller', 5.618659870764775),\n",
       " ('the more', 5.618659870764775),\n",
       " ('upon', 5.618659870764775),\n",
       " ('album to', 5.611925838583431),\n",
       " ('floor', 5.611925838583431),\n",
       " ('impressed', 5.611925838583431),\n",
       " ('look at', 5.611925838583431),\n",
       " ('neck', 5.611925838583431),\n",
       " ('not buy', 5.611925838583431),\n",
       " ('not too', 5.611925838583431),\n",
       " ('so the', 5.611925838583431),\n",
       " ('these songs', 5.611925838583431),\n",
       " ('device', 5.605236850432634),\n",
       " ('im', 5.605236850432634),\n",
       " ('it came', 5.605236850432634),\n",
       " ('let me', 5.605236850432634),\n",
       " ('loves', 5.605236850432634),\n",
       " ('more like', 5.605236850432634),\n",
       " ('my wife', 5.605236850432634),\n",
       " ('pills', 5.605236850432634),\n",
       " ('post', 5.605236850432634),\n",
       " ('provide', 5.605236850432634),\n",
       " ('rain', 5.605236850432634),\n",
       " ('suggest', 5.605236850432634),\n",
       " ('than that', 5.605236850432634),\n",
       " ('thought it', 5.605236850432634),\n",
       " ('works well', 5.605236850432634),\n",
       " ('years and', 5.605236850432634),\n",
       " ('you to', 5.605236850432634),\n",
       " ('addition', 5.598592307713966),\n",
       " ('brush', 5.598592307713966),\n",
       " ('certain', 5.598592307713966),\n",
       " ('clothes', 5.598592307713966),\n",
       " ('control', 5.598592307713966),\n",
       " ('machine', 5.598592307713966),\n",
       " ('send', 5.598592307713966),\n",
       " ('stretch', 5.598592307713966),\n",
       " ('this stuff', 5.598592307713966),\n",
       " ('too big', 5.598592307713966),\n",
       " ('away from', 5.591991623682614),\n",
       " ('but was', 5.591991623682614),\n",
       " ('clearly', 5.591991623682614),\n",
       " ('cup', 5.591991623682614),\n",
       " ('if this', 5.591991623682614),\n",
       " ('it because', 5.591991623682614),\n",
       " ('scent', 5.591991623682614),\n",
       " ('sized', 5.591991623682614),\n",
       " ('you could', 5.591991623682614),\n",
       " ('as long', 5.585434223136454),\n",
       " ('below', 5.585434223136454),\n",
       " ('friends', 5.585434223136454),\n",
       " ('honestly', 5.585434223136454),\n",
       " ('list', 5.585434223136454),\n",
       " ('mentioned', 5.585434223136454),\n",
       " ('miss', 5.585434223136454),\n",
       " ('moving', 5.585434223136454),\n",
       " ('nicely', 5.585434223136454),\n",
       " ('problem is', 5.585434223136454),\n",
       " ('quot quot', 5.585434223136454),\n",
       " ('rapper', 5.585434223136454),\n",
       " ('songs and', 5.585434223136454),\n",
       " ('that there', 5.585434223136454),\n",
       " ('these shoes', 5.585434223136454),\n",
       " ('wear it', 5.585434223136454),\n",
       " ('with that', 5.585434223136454),\n",
       " ('you should', 5.585434223136454),\n",
       " ('durable', 5.578919542115261),\n",
       " ('himself', 5.578919542115261),\n",
       " ('lyrics are', 5.578919542115261),\n",
       " ('result', 5.578919542115261),\n",
       " ('safe', 5.578919542115261),\n",
       " ('school', 5.578919542115261),\n",
       " ('seemed to', 5.578919542115261),\n",
       " ('sides', 5.578919542115261),\n",
       " ('the job', 5.578919542115261),\n",
       " ('themselves', 5.578919542115261),\n",
       " ('broken', 5.572447027609644),\n",
       " ('but then', 5.572447027609644),\n",
       " ('knows', 5.572447027609644),\n",
       " ('recording', 5.572447027609644),\n",
       " ('releases', 5.572447027609644),\n",
       " ('the sound', 5.572447027609644),\n",
       " ('think this', 5.572447027609644),\n",
       " ('under the', 5.572447027609644),\n",
       " ('ve had', 5.572447027609644),\n",
       " ('are some', 5.5660161372793535),\n",
       " ('belt', 5.5660161372793535),\n",
       " ('is much', 5.5660161372793535),\n",
       " ('nice and', 5.5660161372793535),\n",
       " ('no way', 5.5660161372793535),\n",
       " ('not very', 5.5660161372793535),\n",
       " ('of an', 5.5660161372793535),\n",
       " ('the fabric', 5.5660161372793535),\n",
       " ('this as', 5.5660161372793535),\n",
       " ('which was', 5.5660161372793535),\n",
       " ('and so', 5.559626339180582),\n",
       " ('ballad', 5.559626339180582),\n",
       " ('has some', 5.559626339180582),\n",
       " ('junk', 5.559626339180582),\n",
       " ('not really', 5.559626339180582),\n",
       " ('on his', 5.559626339180582),\n",
       " ('or not', 5.559626339180582),\n",
       " ('packaging', 5.559626339180582),\n",
       " ('rather than', 5.559626339180582),\n",
       " ('the handle', 5.559626339180582),\n",
       " ('car', 5.553277111501924),\n",
       " ('just like', 5.553277111501924),\n",
       " ('lots of', 5.553277111501924),\n",
       " ('much of', 5.553277111501924),\n",
       " ('one that', 5.553277111501924),\n",
       " ('take it', 5.553277111501924),\n",
       " ('with his', 5.553277111501924),\n",
       " ('anymore', 5.546967942308659),\n",
       " ('became', 5.546967942308659),\n",
       " ('been using', 5.546967942308659),\n",
       " ('button', 5.546967942308659),\n",
       " ('chorus', 5.546967942308659),\n",
       " ('comfort', 5.546967942308659),\n",
       " ('could not', 5.546967942308659),\n",
       " ('john', 5.546967942308659),\n",
       " ('my first', 5.546967942308659),\n",
       " ('not for', 5.546967942308659),\n",
       " ('pleased', 5.546967942308659),\n",
       " ('singles', 5.546967942308659),\n",
       " ('small and', 5.546967942308659),\n",
       " ('success', 5.546967942308659),\n",
       " ('and all', 5.540698329295063),\n",
       " ('far as', 5.540698329295063),\n",
       " ('get this', 5.540698329295063),\n",
       " ('little more', 5.540698329295063),\n",
       " ('stuck', 5.540698329295063),\n",
       " ('walk', 5.540698329295063),\n",
       " ('walking', 5.540698329295063),\n",
       " ('across', 5.5344677795444275),\n",
       " ('and for', 5.5344677795444275),\n",
       " ('and his', 5.5344677795444275),\n",
       " ('and some', 5.5344677795444275),\n",
       " ('bought these', 5.5344677795444275),\n",
       " ('comfortable and', 5.5344677795444275),\n",
       " ('feature', 5.5344677795444275),\n",
       " ('listened', 5.5344677795444275),\n",
       " ('many of', 5.5344677795444275),\n",
       " ('not that', 5.5344677795444275),\n",
       " ('shave', 5.5344677795444275),\n",
       " ('space', 5.5344677795444275),\n",
       " ('tunes', 5.5344677795444275),\n",
       " ('waist', 5.5344677795444275),\n",
       " ('what is', 5.5344677795444275),\n",
       " ('80', 5.528275809296506),\n",
       " ('american', 5.528275809296506),\n",
       " ('awful', 5.528275809296506),\n",
       " ('effects', 5.528275809296506),\n",
       " ('for years', 5.528275809296506),\n",
       " ('gift', 5.528275809296506),\n",
       " ('likely', 5.528275809296506),\n",
       " ('pieces', 5.528275809296506),\n",
       " ('rappers', 5.528275809296506),\n",
       " ('rate', 5.528275809296506),\n",
       " ('recently', 5.528275809296506),\n",
       " ('road', 5.528275809296506),\n",
       " ('studio', 5.528275809296506),\n",
       " ('they will', 5.528275809296506),\n",
       " ('though it', 5.528275809296506),\n",
       " ('you may', 5.528275809296506),\n",
       " ('and more', 5.522121943722128),\n",
       " ('barely', 5.522121943722128),\n",
       " ('even if', 5.522121943722128),\n",
       " ('for about', 5.522121943722128),\n",
       " ('is little', 5.522121943722128),\n",
       " ('legs', 5.522121943722128),\n",
       " ('make sure', 5.522121943722128),\n",
       " ('so if', 5.522121943722128),\n",
       " ('sold', 5.522121943722128),\n",
       " ('sounding', 5.522121943722128),\n",
       " ('the old', 5.522121943722128),\n",
       " ('tool', 5.522121943722128),\n",
       " ('unlike', 5.522121943722128),\n",
       " ('do it', 5.516005716704692),\n",
       " ('go to', 5.516005716704692),\n",
       " ('gonna', 5.516005716704692),\n",
       " ('hurt', 5.516005716704692),\n",
       " ('material is', 5.516005716704692),\n",
       " ('oil', 5.516005716704692),\n",
       " ('plenty', 5.516005716704692),\n",
       " ('problem with', 5.516005716704692),\n",
       " ('this would', 5.516005716704692),\n",
       " ('trip', 5.516005716704692),\n",
       " ('dead', 5.509926670628309),\n",
       " ('double', 5.509926670628309),\n",
       " ('expecting', 5.509926670628309),\n",
       " ('eyes', 5.509926670628309),\n",
       " ('include', 5.509926670628309),\n",
       " ('instructions', 5.509926670628309),\n",
       " ('it had', 5.509926670628309),\n",
       " ('it should', 5.509926670628309),\n",
       " ('me it', 5.509926670628309),\n",
       " ('missing', 5.509926670628309),\n",
       " ('not like', 5.509926670628309),\n",
       " ('steel', 5.509926670628309),\n",
       " ('the case', 5.509926670628309),\n",
       " ('thing is', 5.509926670628309),\n",
       " ('throughout', 5.509926670628309),\n",
       " ('told', 5.509926670628309),\n",
       " ('when they', 5.509926670628309),\n",
       " ('at this', 5.503884356172347),\n",
       " ('comes with', 5.503884356172347),\n",
       " ('in that', 5.503884356172347),\n",
       " ('particular', 5.503884356172347),\n",
       " ('reviewers', 5.503884356172347),\n",
       " ('sing', 5.503884356172347),\n",
       " ('sizes', 5.503884356172347),\n",
       " ('years ago', 5.503884356172347),\n",
       " ('accurate', 5.497878332112135),\n",
       " ('as far', 5.497878332112135),\n",
       " ('bra', 5.497878332112135),\n",
       " ('inch', 5.497878332112135),\n",
       " ('know that', 5.497878332112135),\n",
       " ('possible', 5.497878332112135),\n",
       " ('rubber', 5.497878332112135),\n",
       " ('system', 5.497878332112135),\n",
       " ('up on', 5.497878332112135),\n",
       " ('all that', 5.491908165125632),\n",
       " ('and one', 5.491908165125632),\n",
       " ('as an', 5.491908165125632),\n",
       " ('brands', 5.491908165125632),\n",
       " ('but when', 5.491908165125632),\n",
       " ('fell', 5.491908165125632),\n",
       " ('make the', 5.491908165125632),\n",
       " ('music is', 5.491908165125632),\n",
       " ('of time', 5.491908165125632),\n",
       " ('replace', 5.491908165125632),\n",
       " ('side of', 5.491908165125632),\n",
       " ('surprised', 5.491908165125632),\n",
       " ('the production', 5.491908165125632),\n",
       " ('useless', 5.491908165125632),\n",
       " ('with an', 5.491908165125632),\n",
       " ('and very', 5.485973429605817),\n",
       " ('description', 5.485973429605817),\n",
       " ('hour', 5.485973429605817),\n",
       " ('important', 5.485973429605817),\n",
       " ('just not', 5.485973429605817),\n",
       " ('leather', 5.485973429605817),\n",
       " ('unique', 5.485973429605817),\n",
       " ('whether', 5.485973429605817),\n",
       " ('you do', 5.485973429605817),\n",
       " ('album it', 5.4800737074786285),\n",
       " ('available', 5.4800737074786285),\n",
       " ('cuts', 5.4800737074786285),\n",
       " ('future', 5.4800737074786285),\n",
       " ('highly recommend', 5.4800737074786285),\n",
       " ('in their', 5.4800737074786285),\n",
       " ('lots', 5.4800737074786285),\n",
       " ('out in', 5.4800737074786285),\n",
       " ('performance', 5.4800737074786285),\n",
       " ('sad', 5.4800737074786285),\n",
       " ('something that', 5.4800737074786285),\n",
       " ('turned', 5.4800737074786285),\n",
       " ('while the', 5.4800737074786285),\n",
       " ('wore', 5.4800737074786285),\n",
       " ('actual', 5.47420858802623),\n",
       " ('but he', 5.47420858802623),\n",
       " ('don get', 5.47420858802623),\n",
       " ('how to', 5.47420858802623),\n",
       " ('personally', 5.47420858802623),\n",
       " ('see the', 5.47420858802623),\n",
       " ('attention', 5.468377667715437),\n",
       " ('can see', 5.468377667715437),\n",
       " ('continue', 5.468377667715437),\n",
       " ('daughter', 5.468377667715437),\n",
       " ('god', 5.468377667715437),\n",
       " ('it fits', 5.468377667715437),\n",
       " ('looks like', 5.468377667715437),\n",
       " ('not recommend', 5.468377667715437),\n",
       " ('strap', 5.468377667715437),\n",
       " ('sweet', 5.468377667715437),\n",
       " ('the fit', 5.468377667715437),\n",
       " ('written', 5.468377667715437),\n",
       " ('flavor', 5.462580550031111),\n",
       " ('good quality', 5.462580550031111),\n",
       " ('main', 5.462580550031111),\n",
       " ('serious', 5.462580550031111),\n",
       " ('to your', 5.462580550031111),\n",
       " ('very nice', 5.462580550031111),\n",
       " ('came out', 5.4568168453143615),\n",
       " ('designed', 5.4568168453143615),\n",
       " ('example', 5.4568168453143615),\n",
       " ('that will', 5.4568168453143615),\n",
       " ('them in', 5.4568168453143615),\n",
       " ('they would', 5.4568168453143615),\n",
       " ('up in', 5.4568168453143615),\n",
       " ('usual', 5.4568168453143615),\n",
       " ('women', 5.4568168453143615),\n",
       " ('great and', 5.451086170605376),\n",
       " ('have had', 5.451086170605376),\n",
       " ('in his', 5.451086170605376),\n",
       " ('lead', 5.451086170605376),\n",
       " ('pressure', 5.451086170605376),\n",
       " ('total', 5.451086170605376),\n",
       " ('write', 5.451086170605376),\n",
       " ('and had', 5.445388149490738),\n",
       " ('changed', 5.445388149490738),\n",
       " ('consider', 5.445388149490738),\n",
       " ('for those', 5.445388149490738),\n",
       " ('not worth', 5.445388149490738),\n",
       " ('that has', 5.445388149490738),\n",
       " ('bring', 5.439722411955061),\n",
       " ('items', 5.439722411955061),\n",
       " ('not only', 5.439722411955061),\n",
       " ('quality of', 5.439722411955061),\n",
       " ('quot is', 5.439722411955061),\n",
       " ('added', 5.434088594236806),\n",
       " ('bar', 5.434088594236806),\n",
       " ('be good', 5.434088594236806),\n",
       " ('finish', 5.434088594236806),\n",
       " ('forward', 5.434088594236806),\n",
       " ('good but', 5.434088594236806),\n",
       " ('he has', 5.434088594236806),\n",
       " ('minute', 5.434088594236806),\n",
       " ('natural', 5.434088594236806),\n",
       " ('rating', 5.434088594236806),\n",
       " ('ride', 5.434088594236806),\n",
       " ('to come', 5.434088594236806),\n",
       " ('wait', 5.434088594236806),\n",
       " ('and when', 5.428486338688136),\n",
       " ('cleaning', 5.428486338688136),\n",
       " ('close to', 5.428486338688136),\n",
       " ('crap', 5.428486338688136),\n",
       " ('do the', 5.428486338688136),\n",
       " ('hearing', 5.428486338688136),\n",
       " ('higher', 5.428486338688136),\n",
       " ('songs that', 5.428486338688136),\n",
       " ('basically', 5.42291529363868),\n",
       " ('flow', 5.42291529363868),\n",
       " ('like to', 5.42291529363868),\n",
       " ('of her', 5.42291529363868),\n",
       " ('piano', 5.42291529363868),\n",
       " ('starts', 5.42291529363868),\n",
       " ('all over', 5.4173751132630645),\n",
       " ('back and', 5.4173751132630645),\n",
       " ('based on', 5.4173751132630645),\n",
       " ('be able', 5.4173751132630645),\n",
       " ('bought it', 5.4173751132630645),\n",
       " ('cheaper', 5.4173751132630645),\n",
       " ('daily', 5.4173751132630645),\n",
       " ('it very', 5.4173751132630645),\n",
       " ('none', 5.4173751132630645),\n",
       " ('on here', 5.4173751132630645),\n",
       " ('razor', 5.4173751132630645),\n",
       " ('that can', 5.4173751132630645),\n",
       " ('was just', 5.4173751132630645),\n",
       " ('ended up', 5.411865457452095),\n",
       " ('kids', 5.411865457452095),\n",
       " ('needs to', 5.411865457452095),\n",
       " ('pocket', 5.411865457452095),\n",
       " ('recommend it', 5.411865457452095),\n",
       " ('records', 5.411865457452095),\n",
       " ('unless you', 5.411865457452095),\n",
       " ('back in', 5.406385991687469),\n",
       " ('biggest', 5.406385991687469),\n",
       " ('effect', 5.406385991687469),\n",
       " ('got it', 5.406385991687469),\n",
       " ('it back', 5.406385991687469),\n",
       " ('lack', 5.406385991687469),\n",
       " ('wet', 5.406385991687469),\n",
       " ('woman', 5.406385991687469),\n",
       " ('amount of', 5.400936386919905),\n",
       " ('any of', 5.400936386919905),\n",
       " ('are good', 5.400936386919905),\n",
       " ('as they', 5.400936386919905),\n",
       " ('major', 5.400936386919905),\n",
       " ('paid', 5.400936386919905),\n",
       " ('parts', 5.400936386919905),\n",
       " ('remove', 5.400936386919905),\n",
       " ('but still', 5.395516319450565),\n",
       " ('is to', 5.395516319450565),\n",
       " ('not bad', 5.395516319450565),\n",
       " ('recorded', 5.395516319450565),\n",
       " ('son', 5.395516319450565),\n",
       " ('the reviews', 5.395516319450565),\n",
       " ('to help', 5.395516319450565),\n",
       " ('to listen', 5.395516319450565),\n",
       " ('tried to', 5.395516319450565),\n",
       " ('type of', 5.395516319450565),\n",
       " ('was so', 5.395516319450565),\n",
       " ('also the', 5.390125470815689),\n",
       " ('are so', 5.390125470815689),\n",
       " ('shot', 5.390125470815689),\n",
       " ('using the', 5.390125470815689),\n",
       " ('have not', 5.384763527674304),\n",
       " ('morning', 5.384763527674304),\n",
       " ('the color', 5.384763527674304),\n",
       " ('touch', 5.384763527674304),\n",
       " ('whatever', 5.384763527674304),\n",
       " ('words', 5.384763527674304),\n",
       " ('baby', 5.379430181698941),\n",
       " ('difficult to', 5.379430181698941),\n",
       " ('got the', 5.379430181698941),\n",
       " ('got this', 5.379430181698941),\n",
       " ('pretty much', 5.379430181698941),\n",
       " ('straps', 5.379430181698941),\n",
       " ('and are', 5.374125129469248),\n",
       " ('flat', 5.374125129469248),\n",
       " ('happy with', 5.374125129469248),\n",
       " ('label', 5.374125129469248),\n",
       " ('per', 5.374125129469248),\n",
       " ('these for', 5.374125129469248),\n",
       " ('40', 5.3688480723684044),\n",
       " ('are just', 5.3688480723684044),\n",
       " ('boy', 5.3688480723684044),\n",
       " ('choice', 5.3688480723684044),\n",
       " ('my husband', 5.3688480723684044),\n",
       " ('running', 5.3688480723684044),\n",
       " ('self', 5.3688480723684044),\n",
       " ('this and', 5.3688480723684044),\n",
       " ('value', 5.3688480723684044),\n",
       " ('what the', 5.3688480723684044),\n",
       " ('alone', 5.363598716482261),\n",
       " ('buy it', 5.363598716482261),\n",
       " ('had the', 5.363598716482261),\n",
       " ('lose', 5.363598716482261),\n",
       " ('personal', 5.363598716482261),\n",
       " ('product is', 5.363598716482261),\n",
       " ('socks', 5.363598716482261),\n",
       " ('spend', 5.363598716482261),\n",
       " ('wash', 5.363598716482261),\n",
       " ('middle', 5.358376772501109),\n",
       " ('obviously', 5.358376772501109),\n",
       " ('on me', 5.358376772501109),\n",
       " ('size and', 5.358376772501109),\n",
       " ('twice', 5.358376772501109),\n",
       " ('wonder', 5.358376772501109),\n",
       " ('and would', 5.353181955624005),\n",
       " ('easier', 5.353181955624005),\n",
       " ('holds', 5.353181955624005),\n",
       " ('is in', 5.353181955624005),\n",
       " ('just as', 5.353181955624005),\n",
       " ('ll be', 5.353181955624005),\n",
       " ('of that', 5.353181955624005),\n",
       " ('think that', 5.353181955624005),\n",
       " ('and in', 5.348013985465562),\n",
       " ('immediately', 5.348013985465562),\n",
       " ('it didn', 5.348013985465562),\n",
       " ('love it', 5.348013985465562),\n",
       " ('test', 5.348013985465562),\n",
       " ('album the', 5.342872585965144),\n",
       " ('batteries', 5.342872585965144),\n",
       " ('doubt', 5.342872585965144),\n",
       " ('for an', 5.342872585965144),\n",
       " ('fresh', 5.342872585965144),\n",
       " ('11', 5.337757485298373),\n",
       " ('as you', 5.337757485298373),\n",
       " ('at first', 5.337757485298373),\n",
       " ('complete', 5.337757485298373),\n",
       " ('deep', 5.337757485298373),\n",
       " ('dress', 5.337757485298373),\n",
       " ('form', 5.337757485298373),\n",
       " ('knew', 5.337757485298373),\n",
       " ('special', 5.337757485298373),\n",
       " ('the problem', 5.337757485298373),\n",
       " ('them for', 5.337757485298373),\n",
       " ('uncomfortable', 5.337757485298373),\n",
       " ('using this', 5.337757485298373),\n",
       " ('wife', 5.337757485298373),\n",
       " ('it comes', 5.332668415790902),\n",
       " ('mix', 5.332668415790902),\n",
       " ('not even', 5.332668415790902),\n",
       " ('sorry', 5.332668415790902),\n",
       " ('the entire', 5.332668415790902),\n",
       " ('and he', 5.327605113834355),\n",
       " ('boring', 5.327605113834355),\n",
       " ('follow', 5.327605113834355),\n",
       " ('helps', 5.327605113834355),\n",
       " ('included', 5.327605113834355),\n",
       " ('long time', 5.327605113834355),\n",
       " ('lower', 5.327605113834355),\n",
       " ('me the', 5.327605113834355),\n",
       " ('replacement', 5.327605113834355),\n",
       " ('to hear', 5.327605113834355),\n",
       " ('your money', 5.327605113834355),\n",
       " ('all in', 5.3225673198043975),\n",
       " ('grip', 5.3225673198043975),\n",
       " ('on amazon', 5.3225673198043975),\n",
       " ('roll', 5.3225673198043975),\n",
       " ('totally', 5.3225673198043975),\n",
       " ('can say', 5.317554777980853),\n",
       " ('chance', 5.317554777980853),\n",
       " ('played', 5.317554777980853),\n",
       " ('really like', 5.317554777980853),\n",
       " ('the two', 5.317554777980853),\n",
       " ('an album', 5.312567236469815),\n",
       " ('and get', 5.312567236469815),\n",
       " ('feel like', 5.312567236469815),\n",
       " ('has the', 5.312567236469815),\n",
       " ('however the', 5.312567236469815),\n",
       " ('normally', 5.312567236469815),\n",
       " ('piece of', 5.312567236469815),\n",
       " ('this item', 5.312567236469815),\n",
       " ('album was', 5.3076044471276855),\n",
       " ('and don', 5.3076044471276855),\n",
       " ('despite', 5.3076044471276855),\n",
       " ('horrible', 5.3076044471276855),\n",
       " ('keeps', 5.3076044471276855),\n",
       " ('of your', 5.3076044471276855),\n",
       " ('so many', 5.3076044471276855),\n",
       " ('sturdy', 5.3076044471276855),\n",
       " ('to fit', 5.3076044471276855),\n",
       " ('vocal', 5.3076044471276855),\n",
       " ('but don', 5.3026661654871035),\n",
       " ('produced', 5.3026661654871035),\n",
       " ('put it', 5.3026661654871035),\n",
       " ('terrible', 5.3026661654871035),\n",
       " ('title track', 5.3026661654871035),\n",
       " ('album that', 5.297752150684674),\n",
       " ('great for', 5.297752150684674),\n",
       " ('makes it', 5.297752150684674),\n",
       " ('album but', 5.292862165390482),\n",
       " ('awesome', 5.292862165390482),\n",
       " ('country', 5.292862165390482),\n",
       " ('hoping', 5.292862165390482),\n",
       " ('non', 5.292862165390482),\n",
       " ('standard', 5.292862165390482),\n",
       " ('talent', 5.292862165390482),\n",
       " ('effective', 5.287995975739309),\n",
       " ('garbage', 5.287995975739309),\n",
       " ('normal', 5.287995975739309),\n",
       " ('the front', 5.287995975739309),\n",
       " ('version of', 5.287995975739309),\n",
       " ('work for', 5.287995975739309),\n",
       " ('don like', 5.283153351263521),\n",
       " ('down the', 5.283153351263521),\n",
       " ('late', 5.283153351263521),\n",
       " ('one is', 5.283153351263521),\n",
       " ('sent', 5.283153351263521),\n",
       " ('sharp', 5.283153351263521),\n",
       " ('them on', 5.283153351263521),\n",
       " ('with some', 5.283153351263521),\n",
       " ('and am', 5.278334064827573),\n",
       " ('annoying', 5.278334064827573),\n",
       " ('dance', 5.278334064827573),\n",
       " ('end of', 5.278334064827573),\n",
       " ('features', 5.278334064827573),\n",
       " ('good as', 5.278334064827573),\n",
       " ('song on', 5.278334064827573),\n",
       " ('them and', 5.278334064827573),\n",
       " ('try to', 5.278334064827573),\n",
       " ('using it', 5.278334064827573),\n",
       " ('wonderful', 5.278334064827573),\n",
       " ('but you', 5.273537892564079),\n",
       " ('career', 5.273537892564079),\n",
       " ('opening', 5.273537892564079),\n",
       " ('sense', 5.273537892564079),\n",
       " ('taken', 5.273537892564079),\n",
       " ('third', 5.273537892564079),\n",
       " ('bright', 5.268764613811422),\n",
       " ('sort of', 5.268764613811422),\n",
       " ('worn', 5.268764613811422),\n",
       " ('green', 5.264014011052824),\n",
       " ('is my', 5.264014011052824),\n",
       " ('love this', 5.264014011052824),\n",
       " ('nearly', 5.264014011052824),\n",
       " ('package', 5.264014011052824),\n",
       " ('husband', 5.259285869856878),\n",
       " ('model', 5.259285869856878),\n",
       " ('outside', 5.259285869856878),\n",
       " ('quick', 5.259285869856878),\n",
       " ('reading', 5.259285869856878),\n",
       " ('songs like', 5.259285869856878),\n",
       " ('they don', 5.259285869856878),\n",
       " ('where the', 5.259285869856878),\n",
       " ('bigger', 5.254579978819465),\n",
       " ('near', 5.254579978819465),\n",
       " ('and just', 5.2498961295070385),\n",
       " ('as much', 5.2498961295070385),\n",
       " ('ended', 5.2498961295070385),\n",
       " ('glad', 5.2498961295070385),\n",
       " ('pants', 5.2498961295070385),\n",
       " ('slow', 5.2498961295070385),\n",
       " ('top of', 5.2498961295070385),\n",
       " ('and has', 5.245234116401227),\n",
       " ('become', 5.245234116401227),\n",
       " ('cd is', 5.245234116401227),\n",
       " ('is more', 5.245234116401227),\n",
       " ('pick', 5.245234116401227),\n",
       " ('soul', 5.245234116401227),\n",
       " ('time to', 5.245234116401227),\n",
       " ('broke', 5.240593736844725),\n",
       " ('but there', 5.240593736844725),\n",
       " ('good and', 5.240593736844725),\n",
       " ('level', 5.240593736844725),\n",
       " ('to return', 5.240593736844725),\n",
       " ('use this', 5.240593736844725),\n",
       " ('have no', 5.235974790988431),\n",
       " ('putting', 5.235974790988431),\n",
       " ('shipping', 5.235974790988431),\n",
       " ('the day', 5.235974790988431),\n",
       " ('the worst', 5.235974790988431),\n",
       " ('with no', 5.235974790988431),\n",
       " ('and quot', 5.231377081739801),\n",
       " ('he was', 5.231377081739801),\n",
       " ('song is', 5.231377081739801),\n",
       " ('too small', 5.231377081739801),\n",
       " ('used it', 5.231377081739801),\n",
       " ('after the', 5.22680041471239),\n",
       " ('disc', 5.22680041471239),\n",
       " ('for some', 5.22680041471239),\n",
       " ('is too', 5.22680041471239),\n",
       " ('known', 5.22680041471239),\n",
       " ('medium', 5.22680041471239),\n",
       " ('more of', 5.22680041471239),\n",
       " ('on and', 5.22680041471239),\n",
       " ('or the', 5.22680041471239),\n",
       " ('the past', 5.22680041471239),\n",
       " ('gives', 5.222244598176529),\n",
       " ('including', 5.222244598176529),\n",
       " ('mostly', 5.222244598176529),\n",
       " ('my feet', 5.222244598176529),\n",
       " ('understand', 5.222244598176529),\n",
       " ('don think', 5.217709443011137),\n",
       " ('friend', 5.217709443011137),\n",
       " ('greatest', 5.217709443011137),\n",
       " ('prefer', 5.217709443011137),\n",
       " ('so you', 5.213194762656611),\n",
       " ('behind', 5.208700373068772),\n",
       " ('fire', 5.208700373068772),\n",
       " ('is it', 5.208700373068772),\n",
       " ('pull', 5.208700373068772),\n",
       " ('summer', 5.208700373068772),\n",
       " ('the bottom', 5.208700373068772),\n",
       " ('arrived', 5.20422609267385),\n",
       " ('compared to', 5.20422609267385),\n",
       " ('from this', 5.20422609267385),\n",
       " ('is what', 5.20422609267385),\n",
       " ('it can', 5.20422609267385),\n",
       " ('that he', 5.20422609267385),\n",
       " ('well and', 5.20422609267385),\n",
       " ('well made', 5.20422609267385),\n",
       " ('would recommend', 5.20422609267385),\n",
       " ('know what', 5.1997717423244705),\n",
       " ('sort', 5.1997717423244705),\n",
       " ('weak', 5.1997717423244705),\n",
       " ('and if', 5.195337145256604),\n",
       " ('he is', 5.195337145256604),\n",
       " ('might be', 5.195337145256604),\n",
       " ('much more', 5.195337145256604),\n",
       " ('of those', 5.195337145256604),\n",
       " ('other than', 5.195337145256604),\n",
       " ('this thing', 5.195337145256604),\n",
       " ('above', 5.190922127047488),\n",
       " ('and there', 5.190922127047488),\n",
       " ('apart', 5.190922127047488),\n",
       " ('because they', 5.190922127047488),\n",
       " ('cause', 5.190922127047488),\n",
       " ('colors', 5.190922127047488),\n",
       " ('game', 5.190922127047488),\n",
       " ('guys', 5.190922127047488),\n",
       " ('my opinion', 5.190922127047488),\n",
       " ('pretty good', 5.190922127047488),\n",
       " ('uses', 5.190922127047488),\n",
       " ('fairly', 5.1865265155744495),\n",
       " ('kept', 5.1865265155744495),\n",
       " ('the box', 5.1865265155744495),\n",
       " ('catchy', 5.182150140974651),\n",
       " ('it looks', 5.182150140974651),\n",
       " ('saying', 5.182150140974651),\n",
       " ('it did', 5.177792835605695),\n",
       " ('pack', 5.177792835605695),\n",
       " ('smooth', 5.177792835605695),\n",
       " ('the world', 5.177792835605695),\n",
       " ('are great', 5.1734544340070965),\n",
       " ('fan of', 5.1734544340070965),\n",
       " ('group', 5.1734544340070965),\n",
       " ('part of', 5.1734544340070965),\n",
       " ...]"
      ]
     },
     "execution_count": 43,
     "metadata": {},
     "output_type": "execute_result"
    }
   ],
   "source": [
    "# Ordenamos el diccionario por valores decrecientes value\n",
    "sortvocab_idfcomplex = sorted(vocab_idfcomplex.items(), key=operator.itemgetter(1),  reverse=True)\n",
    "sortvocab_idfcomplex"
   ]
  },
  {
   "cell_type": "code",
   "execution_count": 44,
   "metadata": {},
   "outputs": [
    {
     "data": {
      "text/plain": [
       "[('fish oil', 7.181884940043744),\n",
       " ('omega', 7.11936458306241),\n",
       " ('8217', 6.926992690414954),\n",
       " ('tori', 6.854672028835328),\n",
       " ('shaver', 6.555429133982471),\n",
       " ('rack', 6.538334700623171),\n",
       " ('elton', 6.441484874633253),\n",
       " ('trimmer', 6.4262174025024645),\n",
       " ('ja', 6.396364439352784),\n",
       " ('fish', 6.381765639931631)]"
      ]
     },
     "execution_count": 44,
     "metadata": {},
     "output_type": "execute_result"
    }
   ],
   "source": [
    "# Top 10 de los palabras con mayor  IDF\n",
    "sortvocab_idfcomplex[0:10]"
   ]
  },
  {
   "cell_type": "code",
   "execution_count": 45,
   "metadata": {},
   "outputs": [
    {
     "data": {
      "text/plain": [
       "[('in', 1.6555327780367999),\n",
       " ('but', 1.5946362816434947),\n",
       " ('for', 1.5692278652234974),\n",
       " ('of', 1.5057941944911017),\n",
       " ('is', 1.4454167062516226),\n",
       " ('this', 1.4301318894209403),\n",
       " ('it', 1.3473572085016354),\n",
       " ('to', 1.3080421512754503),\n",
       " ('and', 1.2210458929293764),\n",
       " ('the', 1.1525187876362202)]"
      ]
     },
     "execution_count": 45,
     "metadata": {},
     "output_type": "execute_result"
    }
   ],
   "source": [
    "# Top 10 de los palabras con menor  IDF  (nuestro diccionario está compuesto por 2000 features)\n",
    "sortvocab_idfcomplex[1990:2000]"
   ]
  },
  {
   "cell_type": "markdown",
   "metadata": {},
   "source": [
    "### Palabras con el TF-IDF en alguna review"
   ]
  },
  {
   "cell_type": "code",
   "execution_count": 46,
   "metadata": {},
   "outputs": [
    {
     "name": "stdout",
     "output_type": "stream",
     "text": [
      "ID: 13425\n",
      "SentimentLabel: neg\n",
      "ReviewText: Ive used Everlast before, for YEARS. Sadly, the Everlast of the 70's and 80's is LONG GONE.  Virtually EVERY product that Everlast makes, from apparel to boxing equipment is so poorly made, it has earned the title \"NEVERLAST\".  This speed bag is no exception. Ive purchased 2 bags now in haste because I had a group training session and the REAL BAGS had not arrived yet. Neither bags lasted more than a couple of weeks. The Leather feels good and the stitching APPEARS well done but, therin lies ONE of the problems. The seams start coming apart after moderate use and the bladders cannot sustain air. The bladders were meticulously filled and the bags never underwent heavy strikes. It was used for timing and response training as it should. The guy at the sporting goods store said they gave refunds for them as fast they sold them but, that was the only brand the company would furnish them with. Many others have reported the same thing with their products. What a shame...Save your money and go for a Title or even BETTER, a Cleto Reyes!  They are pricier than the other two but, you get what you pay for, I assure you!  I purchased my second one in 7 years and its still going as strong as day 1! The price is obviously worth it! Stay away from this crap people! If I could give it a negative rating, believe me...\n"
     ]
    }
   ],
   "source": [
    "# Seleccionamos aleatoriamente una review para extraer las palabras junto con su TF-IDF \n",
    "i = random.randint(0, len(amazon_train))\n",
    "print('ID: {}'.format(i))\n",
    "print('SentimentLabel: {}'.format(amazon_train['sentiment_bilabel'].iloc[i]))\n",
    "print('ReviewText: {}'.format(amazon_train['reviewText'].iloc[i]))"
   ]
  },
  {
   "cell_type": "code",
   "execution_count": 47,
   "metadata": {},
   "outputs": [
    {
     "name": "stdout",
     "output_type": "stream",
     "text": [
      "Top 10 words with highest TF_IDF Nº 13425:\n",
      "              tfidf\n",
      "bags       0.374437\n",
      "the        0.318092\n",
      "and the    0.171723\n",
      "and        0.149780\n",
      "title      0.144039\n",
      "purchased  0.134303\n",
      "as         0.128681\n",
      "them       0.120421\n",
      "for        0.120306\n",
      "years      0.110569\n",
      "\n",
      "Top 10 words with lowest TF_IDF Nº 13425:\n",
      "         tfidf\n",
      "at    0.036060\n",
      "or    0.036036\n",
      "good  0.035934\n",
      "if    0.034032\n",
      "so    0.032383\n",
      "are   0.029822\n",
      "have  0.029340\n",
      "my    0.027676\n",
      "not   0.026822\n",
      "to    0.020056\n"
     ]
    }
   ],
   "source": [
    "# Aplicamos la muestra obtenida con está técnica de extracción de features tfidf_complex\n",
    "doc_vector = X_train_tfidf_complex[i]\n",
    "df_tfidfcomplex = pd.DataFrame(doc_vector.T.todense(), index=tfidf_complex.get_feature_names(), columns=['tfidf'])\n",
    "df_tfidfcomplex = df_tfidfcomplex[df_tfidfcomplex['tfidf'] > 0]\n",
    "\n",
    "# Top n\n",
    "top_n = 10\n",
    "print('Top {} words with highest TF_IDF Nº {}:\\n{}'.format(top_n, i, df_tfidfcomplex.sort_values(by=[\"tfidf\"], ascending=False)[:top_n]))\n",
    "print('\\nTop {} words with lowest TF_IDF Nº {}:\\n{}'.format(top_n, i, df_tfidfcomplex.sort_values(by=[\"tfidf\"],ascending=False)[-top_n:]))"
   ]
  },
  {
   "cell_type": "markdown",
   "metadata": {},
   "source": [
    "### 𝜒²  scores"
   ]
  },
  {
   "cell_type": "code",
   "execution_count": 48,
   "metadata": {
    "scrolled": false
   },
   "outputs": [
    {
     "data": {
      "image/png": "[encoded data removed]",
      "text/plain": [
       "<Figure size 864x576 with 1 Axes>"
      ]
     },
     "metadata": {
      "needs_background": "light"
     },
     "output_type": "display_data"
    }
   ],
   "source": [
    "# Compute the chi-squared score for each word in the training set and show the values (tfidf_complex)\n",
    "i = 20 \n",
    "\n",
    "chi2score = chi2(X_train_tfidf_complex, amazon_train['sentiment_bilabel'])[0]\n",
    "scores = list(zip(tfidf_complex.get_feature_names(), chi2score))\n",
    "sorted_scores = sorted(scores, key=lambda x:x[1])\n",
    "topchi2 = list(zip(*sorted_scores[-i:]))\n",
    "x = range(len(topchi2[1]))\n",
    "labels = topchi2[0]\n",
    "\n",
    "plt.figure(figsize=(12, 8))\n",
    "plt.barh(x,topchi2[1], align='center', alpha=0.5)\n",
    "plt.plot(topchi2[1], x, '-o', markersize=5, alpha=0.8)\n",
    "plt.yticks(x, labels, fontsize=12)\n",
    "plt.xlabel('$\\chi^2$', fontsize=26)\n",
    "plt.ylabel('word', fontsize=16)\n",
    "plt.title('Top {} $\\chi^2$ score for each word in the training set'.format(i), fontsize=20)\n",
    "plt.grid()\n",
    "plt.tight_layout()\n",
    "plt.show();"
   ]
  },
  {
   "cell_type": "markdown",
   "metadata": {},
   "source": [
    "### Entrenamiento - Modelo LogisticRegression para el problema de clasificación binaria"
   ]
  },
  {
   "cell_type": "code",
   "execution_count": 49,
   "metadata": {},
   "outputs": [],
   "source": [
    "# Para el problema de clasificación binaria aplicamos el modelo LogisticRegression\n",
    "# The 'newton-cg', 'sag', and 'lbfgs' solvers support only L2 regularization with primal formulation, or no regularization\n",
    "lr_cv_simple        = LogisticRegression(solver='lbfgs')  # obtengo mejores resultados\n",
    "lr_cv_simple_sw     = LogisticRegression(solver='lbfgs')\n",
    "lr_cv_complex       = LogisticRegression(solver='lbfgs')\n",
    "lr_cv_complex_sw    = LogisticRegression(solver='lbfgs')\n",
    "lr_tfidf_simple     = LogisticRegression(solver='lbfgs')\n",
    "lr_tfidf_simple_sw  = LogisticRegression(solver='lbfgs')\n",
    "lr_tfidf_complex    = LogisticRegression(solver='lbfgs')\n",
    "lr_tfidf_complex_sw = LogisticRegression(solver='lbfgs')"
   ]
  },
  {
   "cell_type": "code",
   "execution_count": 50,
   "metadata": {},
   "outputs": [],
   "source": [
    "# Función que realiza el entrenamiento en training y predice test con algunas métricas (matriz de confusión, accuracy)\n",
    "def  model_training(lr_model, X_train, y_train, X_test, y_test):\n",
    "    \n",
    "    lr_model.fit(X_train, y_train)\n",
    "    y_predict = lr_model.predict(X_test)\n",
    "   \n",
    "    print('Modelo: ', {lr_model})\n",
    "    print(confusion_matrix(y_test, y_predict))\n",
    "    print(classification_report(y_test, y_predict))\n",
    "    print('Accuracy score:{}'.format(accuracy_score(y_test, y_predict)))\n",
    "    \n",
    "    plot_confusion_matrix(confusion_matrix(y_test, y_predict))\n",
    "    "
   ]
  },
  {
   "cell_type": "code",
   "execution_count": 51,
   "metadata": {},
   "outputs": [
    {
     "name": "stdout",
     "output_type": "stream",
     "text": [
      "Modelo:  {LogisticRegression(C=1.0, class_weight=None, dual=False, fit_intercept=True,\n",
      "                   intercept_scaling=1, l1_ratio=None, max_iter=100,\n",
      "                   multi_class='warn', n_jobs=None, penalty='l2',\n",
      "                   random_state=None, solver='lbfgs', tol=0.0001, verbose=0,\n",
      "                   warm_start=False)}\n",
      "[[1395  605]\n",
      " [ 520 2480]]\n",
      "              precision    recall  f1-score   support\n",
      "\n",
      "         neg       0.73      0.70      0.71      2000\n",
      "         pos       0.80      0.83      0.82      3000\n",
      "\n",
      "    accuracy                           0.78      5000\n",
      "   macro avg       0.77      0.76      0.76      5000\n",
      "weighted avg       0.77      0.78      0.77      5000\n",
      "\n",
      "Accuracy score:0.775\n"
     ]
    },
    {
     "data": {
      "image/png": "[encoded data removed]",
      "text/plain": [
       "<Figure size 504x504 with 1 Axes>"
      ]
     },
     "metadata": {
      "needs_background": "light"
     },
     "output_type": "display_data"
    }
   ],
   "source": [
    "# Modelo 1. CountVectorizer simple - LogisticRegression\n",
    "model_training(lr_cv_simple, X_train_cv_simple,  amazon_train['sentiment_bilabel'], \n",
    "                             X_test_cv_simple, amazon_test['sentiment_bilabel'])"
   ]
  },
  {
   "cell_type": "code",
   "execution_count": 52,
   "metadata": {},
   "outputs": [
    {
     "name": "stdout",
     "output_type": "stream",
     "text": [
      "Modelo:  {LogisticRegression(C=1.0, class_weight=None, dual=False, fit_intercept=True,\n",
      "                   intercept_scaling=1, l1_ratio=None, max_iter=100,\n",
      "                   multi_class='warn', n_jobs=None, penalty='l2',\n",
      "                   random_state=None, solver='lbfgs', tol=0.0001, verbose=0,\n",
      "                   warm_start=False)}\n",
      "[[1347  653]\n",
      " [ 551 2449]]\n",
      "              precision    recall  f1-score   support\n",
      "\n",
      "         neg       0.71      0.67      0.69      2000\n",
      "         pos       0.79      0.82      0.80      3000\n",
      "\n",
      "    accuracy                           0.76      5000\n",
      "   macro avg       0.75      0.74      0.75      5000\n",
      "weighted avg       0.76      0.76      0.76      5000\n",
      "\n",
      "Accuracy score:0.7592\n"
     ]
    },
    {
     "data": {
      "image/png": "[encoded data removed]",
      "text/plain": [
       "<Figure size 504x504 with 1 Axes>"
      ]
     },
     "metadata": {
      "needs_background": "light"
     },
     "output_type": "display_data"
    }
   ],
   "source": [
    "# Modelo 2. CountVectorizer simple + stop_words - LogisticRegression\n",
    "model_training(lr_cv_simple_sw, X_train_cv_simple_sw,  amazon_train['sentiment_bilabel'], \n",
    "                                X_test_cv_simple_sw, amazon_test['sentiment_bilabel'])"
   ]
  },
  {
   "cell_type": "markdown",
   "metadata": {},
   "source": [
    "                    CountVectorizer simple                    CountVectorizer simple con stop_words\n",
    "    \n",
    "    M.confusión     [[1395  605]   Falsos negativos: 605      [[1347  653]   Falsos negativos: 653       \n",
    "                     [ 520 2480]]  Falsos positivos: 520       [ 551 2449]]  Falsos positivos: 551\n",
    "    \n",
    "    Accuracy        0.775                                     0.7592\n",
    "\n",
    "\n",
    "    El mejor resultado obtenido es el modelo sin aplicar stop_words, tanto en accuracy como en falsos positivos y negativos. "
   ]
  },
  {
   "cell_type": "code",
   "execution_count": 53,
   "metadata": {},
   "outputs": [
    {
     "name": "stdout",
     "output_type": "stream",
     "text": [
      "Modelo:  {LogisticRegression(C=1.0, class_weight=None, dual=False, fit_intercept=True,\n",
      "                   intercept_scaling=1, l1_ratio=None, max_iter=100,\n",
      "                   multi_class='warn', n_jobs=None, penalty='l2',\n",
      "                   random_state=None, solver='lbfgs', tol=0.0001, verbose=0,\n",
      "                   warm_start=False)}\n",
      "[[1349  651]\n",
      " [ 523 2477]]\n",
      "              precision    recall  f1-score   support\n",
      "\n",
      "         neg       0.72      0.67      0.70      2000\n",
      "         pos       0.79      0.83      0.81      3000\n",
      "\n",
      "    accuracy                           0.77      5000\n",
      "   macro avg       0.76      0.75      0.75      5000\n",
      "weighted avg       0.76      0.77      0.76      5000\n",
      "\n",
      "Accuracy score:0.7652\n"
     ]
    },
    {
     "data": {
      "image/png": "[encoded data removed]",
      "text/plain": [
       "<Figure size 504x504 with 1 Axes>"
      ]
     },
     "metadata": {
      "needs_background": "light"
     },
     "output_type": "display_data"
    }
   ],
   "source": [
    "# Modelo 3. CountVectorizer filter features - LogisticRegression\n",
    "model_training(lr_cv_complex, X_train_cv_complex,  amazon_train['sentiment_bilabel'], \n",
    "                              X_test_cv_complex, amazon_test['sentiment_bilabel'])"
   ]
  },
  {
   "cell_type": "code",
   "execution_count": 54,
   "metadata": {},
   "outputs": [
    {
     "name": "stdout",
     "output_type": "stream",
     "text": [
      "Modelo:  {LogisticRegression(C=1.0, class_weight=None, dual=False, fit_intercept=True,\n",
      "                   intercept_scaling=1, l1_ratio=None, max_iter=100,\n",
      "                   multi_class='warn', n_jobs=None, penalty='l2',\n",
      "                   random_state=None, solver='lbfgs', tol=0.0001, verbose=0,\n",
      "                   warm_start=False)}\n",
      "[[1317  683]\n",
      " [ 520 2480]]\n",
      "              precision    recall  f1-score   support\n",
      "\n",
      "         neg       0.72      0.66      0.69      2000\n",
      "         pos       0.78      0.83      0.80      3000\n",
      "\n",
      "    accuracy                           0.76      5000\n",
      "   macro avg       0.75      0.74      0.75      5000\n",
      "weighted avg       0.76      0.76      0.76      5000\n",
      "\n",
      "Accuracy score:0.7594\n"
     ]
    },
    {
     "data": {
      "image/png": "[encoded data removed]",
      "text/plain": [
       "<Figure size 504x504 with 1 Axes>"
      ]
     },
     "metadata": {
      "needs_background": "light"
     },
     "output_type": "display_data"
    }
   ],
   "source": [
    "# Modelo 4. CountVectorizer filter features + stop_words - LogisticRegression\n",
    "model_training(lr_cv_complex_sw, X_train_cv_complex_sw,  amazon_train['sentiment_bilabel'], \n",
    "                                 X_test_cv_complex_sw, amazon_test['sentiment_bilabel'])"
   ]
  },
  {
   "cell_type": "markdown",
   "metadata": {},
   "source": [
    "                    CountVectorizer filter features           CountVectorizer filter features con stop_words\n",
    "\n",
    "    M.confusión     [[1349  651]   Falsos negativos: 651      [[1317  683]   Falsos negativos: 683       \n",
    "                     [ 523 2477]]  Falsos positivos: 523      [ 520 2480]]   Falsos positivos: 520\n",
    "\n",
    "    Accuracy        0.7652                                    0.7594\n",
    "    \n",
    "    Son modelos con resultados similares, algo mejor el primer modelo sin aplicar stop_words"
   ]
  },
  {
   "cell_type": "code",
   "execution_count": 55,
   "metadata": {},
   "outputs": [
    {
     "name": "stdout",
     "output_type": "stream",
     "text": [
      "Modelo:  {LogisticRegression(C=1.0, class_weight=None, dual=False, fit_intercept=True,\n",
      "                   intercept_scaling=1, l1_ratio=None, max_iter=100,\n",
      "                   multi_class='warn', n_jobs=None, penalty='l2',\n",
      "                   random_state=None, solver='lbfgs', tol=0.0001, verbose=0,\n",
      "                   warm_start=False)}\n",
      "[[1269  731]\n",
      " [ 376 2624]]\n",
      "              precision    recall  f1-score   support\n",
      "\n",
      "         neg       0.77      0.63      0.70      2000\n",
      "         pos       0.78      0.87      0.83      3000\n",
      "\n",
      "    accuracy                           0.78      5000\n",
      "   macro avg       0.78      0.75      0.76      5000\n",
      "weighted avg       0.78      0.78      0.77      5000\n",
      "\n",
      "Accuracy score:0.7786\n"
     ]
    },
    {
     "data": {
      "image/png": "[encoded data removed]",
      "text/plain": [
       "<Figure size 504x504 with 1 Axes>"
      ]
     },
     "metadata": {
      "needs_background": "light"
     },
     "output_type": "display_data"
    }
   ],
   "source": [
    "# Modelo 5. TfIdfVectorizer simple - - LogisticRegression\n",
    "model_training(lr_tfidf_simple, X_train_tfidf_simple,  amazon_train['sentiment_bilabel'], \n",
    "                                X_test_tfidf_simple, amazon_test['sentiment_bilabel'])"
   ]
  },
  {
   "cell_type": "code",
   "execution_count": 56,
   "metadata": {},
   "outputs": [
    {
     "name": "stdout",
     "output_type": "stream",
     "text": [
      "Modelo:  {LogisticRegression(C=1.0, class_weight=None, dual=False, fit_intercept=True,\n",
      "                   intercept_scaling=1, l1_ratio=None, max_iter=100,\n",
      "                   multi_class='warn', n_jobs=None, penalty='l2',\n",
      "                   random_state=None, solver='lbfgs', tol=0.0001, verbose=0,\n",
      "                   warm_start=False)}\n",
      "[[1219  781]\n",
      " [ 360 2640]]\n",
      "              precision    recall  f1-score   support\n",
      "\n",
      "         neg       0.77      0.61      0.68      2000\n",
      "         pos       0.77      0.88      0.82      3000\n",
      "\n",
      "    accuracy                           0.77      5000\n",
      "   macro avg       0.77      0.74      0.75      5000\n",
      "weighted avg       0.77      0.77      0.77      5000\n",
      "\n",
      "Accuracy score:0.7718\n"
     ]
    },
    {
     "data": {
      "image/png": "[encoded data removed]",
      "text/plain": [
       "<Figure size 504x504 with 1 Axes>"
      ]
     },
     "metadata": {
      "needs_background": "light"
     },
     "output_type": "display_data"
    }
   ],
   "source": [
    "# Modelo 6. TfIdfVectorizer simple +  stop_words - - LogisticRegression\n",
    "model_training(lr_tfidf_simple_sw, X_train_tfidf_simple_sw,  amazon_train['sentiment_bilabel'], \n",
    "                                   X_test_tfidf_simple_sw, amazon_test['sentiment_bilabel'])"
   ]
  },
  {
   "cell_type": "markdown",
   "metadata": {},
   "source": [
    "                    TfidfVectorizer simple                    TfidfVectorizer simple con stop_words\n",
    "\n",
    "    M.confusión     [[1264  736]   Falsos negativos: 736      [[1219  781]   Falsos negativos: 781       \n",
    "                     [ 376 2624]]  Falsos positivos: 376      [ 360 2640]]   Falsos positivos: 360 \n",
    "\n",
    "    Accuracy        0.7786                                    0.7718\n",
    "    \n",
    "    Son modelos con resultados similares, algo mejor el primer modelo sin aplicar stop_words"
   ]
  },
  {
   "cell_type": "code",
   "execution_count": 57,
   "metadata": {},
   "outputs": [
    {
     "name": "stdout",
     "output_type": "stream",
     "text": [
      "Modelo:  {LogisticRegression(C=1.0, class_weight=None, dual=False, fit_intercept=True,\n",
      "                   intercept_scaling=1, l1_ratio=None, max_iter=100,\n",
      "                   multi_class='warn', n_jobs=None, penalty='l2',\n",
      "                   random_state=None, solver='lbfgs', tol=0.0001, verbose=0,\n",
      "                   warm_start=False)}\n",
      "[[1317  683]\n",
      " [ 399 2601]]\n",
      "              precision    recall  f1-score   support\n",
      "\n",
      "         neg       0.77      0.66      0.71      2000\n",
      "         pos       0.79      0.87      0.83      3000\n",
      "\n",
      "    accuracy                           0.78      5000\n",
      "   macro avg       0.78      0.76      0.77      5000\n",
      "weighted avg       0.78      0.78      0.78      5000\n",
      "\n",
      "Accuracy score:0.7836\n"
     ]
    },
    {
     "data": {
      "image/png": "[encoded data removed]",
      "text/plain": [
       "<Figure size 504x504 with 1 Axes>"
      ]
     },
     "metadata": {
      "needs_background": "light"
     },
     "output_type": "display_data"
    }
   ],
   "source": [
    "# Modelo 7. TfIdfVectorizer filter features - - LogisticRegression\n",
    "model_training(lr_tfidf_complex, X_train_tfidf_complex,  amazon_train['sentiment_bilabel'], \n",
    "                                 X_test_tfidf_complex, amazon_test['sentiment_bilabel'])"
   ]
  },
  {
   "cell_type": "code",
   "execution_count": 58,
   "metadata": {},
   "outputs": [
    {
     "name": "stdout",
     "output_type": "stream",
     "text": [
      "Modelo:  {LogisticRegression(C=1.0, class_weight=None, dual=False, fit_intercept=True,\n",
      "                   intercept_scaling=1, l1_ratio=None, max_iter=100,\n",
      "                   multi_class='warn', n_jobs=None, penalty='l2',\n",
      "                   random_state=None, solver='lbfgs', tol=0.0001, verbose=0,\n",
      "                   warm_start=False)}\n",
      "[[1259  741]\n",
      " [ 414 2586]]\n",
      "              precision    recall  f1-score   support\n",
      "\n",
      "         neg       0.75      0.63      0.69      2000\n",
      "         pos       0.78      0.86      0.82      3000\n",
      "\n",
      "    accuracy                           0.77      5000\n",
      "   macro avg       0.76      0.75      0.75      5000\n",
      "weighted avg       0.77      0.77      0.76      5000\n",
      "\n",
      "Accuracy score:0.769\n"
     ]
    },
    {
     "data": {
      "image/png": "[encoded data removed]",
      "text/plain": [
       "<Figure size 504x504 with 1 Axes>"
      ]
     },
     "metadata": {
      "needs_background": "light"
     },
     "output_type": "display_data"
    }
   ],
   "source": [
    "# Modelo 8. TfIdfVectorizer filter features + stop_words - - LogisticRegression\n",
    "model_training(lr_tfidf_complex_sw, X_train_tfidf_complex_sw,  amazon_train['sentiment_bilabel'], \n",
    "                                    X_test_tfidf_complex_sw, amazon_test['sentiment_bilabel'])"
   ]
  },
  {
   "cell_type": "markdown",
   "metadata": {},
   "source": [
    "                    TfidfVectorizer filter features           TfidfVectorizer filter features con stop_words\n",
    "\n",
    "    M.confusión     [[1317  683]   Falsos negativos: 683      [[1259  741]   Falsos negativos: 741       \n",
    "                     [ 399 2601]]  Falsos positivos: 399      [ 414 2586]]   Falsos positivos: 414 \n",
    "\n",
    "    Accuracy        0.7836                                   0.769\n",
    "    \n",
    "    En este caso el mejor resultado es el primer modelo sin stop_words tanto en accuracy como en falsos negativos y falsos positivos."
   ]
  },
  {
   "cell_type": "markdown",
   "metadata": {},
   "source": [
    "### Predicciones "
   ]
  },
  {
   "cell_type": "code",
   "execution_count": 59,
   "metadata": {},
   "outputs": [],
   "source": [
    "# Función que predice el analísis de sentimiento según el review de un dataframe\n",
    "def predict_review_sentiment(df, review_index, col_name, col_label,  model, cv):\n",
    "    print('Actual sentiment: {}'.format(df.iloc[review_index][col_label]))\n",
    "    r = df.iloc[review_index][col_name]\n",
    "    print('Prediction: {}'.format(model.predict(cv.transform([r]))))"
   ]
  },
  {
   "cell_type": "code",
   "execution_count": 61,
   "metadata": {},
   "outputs": [
    {
     "name": "stdout",
     "output_type": "stream",
     "text": [
      "\n",
      "Review no. 19909\n",
      "Actual sentiment: pos\n",
      "Prediction: ['pos']\n",
      "\n",
      "Review no. 9267\n",
      "Actual sentiment: pos\n",
      "Prediction: ['pos']\n",
      "\n",
      "Review no. 6653\n",
      "Actual sentiment: neg\n",
      "Prediction: ['neg']\n",
      "\n",
      "Review no. 12009\n",
      "Actual sentiment: pos\n",
      "Prediction: ['neg']\n",
      "\n",
      "Review no. 6762\n",
      "Actual sentiment: neg\n",
      "Prediction: ['neg']\n"
     ]
    }
   ],
   "source": [
    "# Aplicamos esta predicción sobre el modelo con mejores resultados TfidfVectorizer filter features sin aplicar stop_words\n",
    "for i in random.sample(range(0, len(df_amazon)), 5):\n",
    "    print('\\nReview no. {}'.format(i))\n",
    "    predict_review_sentiment(df_amazon, i, 'reviewText', 'sentiment_bilabel', lr_tfidf_complex, tfidf_complex)"
   ]
  },
  {
   "cell_type": "code",
   "execution_count": 63,
   "metadata": {},
   "outputs": [
    {
     "name": "stdout",
     "output_type": "stream",
     "text": [
      "\n",
      "Review no. 7533\n",
      "Actual sentiment: pos\n",
      "Prediction: ['pos']\n",
      "\n",
      "Review no. 914\n",
      "Actual sentiment: neg\n",
      "Prediction: ['neg']\n",
      "\n",
      "Review no. 10746\n",
      "Actual sentiment: neg\n",
      "Prediction: ['neg']\n",
      "\n",
      "Review no. 11787\n",
      "Actual sentiment: neg\n",
      "Prediction: ['neg']\n",
      "\n",
      "Review no. 18283\n",
      "Actual sentiment: pos\n",
      "Prediction: ['pos']\n"
     ]
    }
   ],
   "source": [
    "# Aplicamos esta predicción sobre el modelo con mejores resultados TfidfVectorizer simple sin aplicar stop_words\n",
    "for i in random.sample(range(0, len(df_amazon)), 5):\n",
    "    print('\\nReview no. {}'.format(i))\n",
    "    predict_review_sentiment(df_amazon, i, 'reviewText', 'sentiment_bilabel', lr_tfidf_simple, tfidf_simple)"
   ]
  },
  {
   "cell_type": "markdown",
   "metadata": {},
   "source": [
    "Observamos que en la clasificación binario, algunas predicciones no han sido las esperadas en las Review no. 12009"
   ]
  },
  {
   "cell_type": "markdown",
   "metadata": {},
   "source": [
    "### Conclusiones para el problema de clasificación binaria"
   ]
  },
  {
   "cell_type": "markdown",
   "metadata": {},
   "source": [
    "Aplicando estas técnicas para la extracción de carácterísticas\n",
    "    \n",
    "    CountVectorizer simple\n",
    "    CountVectorizer filter features\n",
    "    TfidfVectorizer simple\n",
    "    TfidfVectorizer filter features\n",
    "    \n",
    "y sus combinaciones con stop_words junto con un modelo  LogisticRegression para el problema de regresión binario.\n",
    "\n",
    "Concluimos que el mejor resultado corresponde a la cuarta técnica:\n",
    "    \n",
    "    \"TfidfVectorizer filter features\" sin stop_words (accurary en test 78.36%)"
   ]
  },
  {
   "cell_type": "markdown",
   "metadata": {},
   "source": [
    "### Entrenamiento - Modelo Random Forest para el problema de clasificación multiclase"
   ]
  },
  {
   "cell_type": "code",
   "execution_count": 64,
   "metadata": {},
   "outputs": [],
   "source": [
    "# Función que entrena el modelo Random Forest y obtiene hiperparámetro óptimo max_depth\n",
    "# y calcula su score tanto en train como en test\n",
    "def optimal_rfmodel (nmax, X_train, y_train, X_test, y_test):\n",
    "    maxDepth = range(1,nmax)\n",
    "    tuned_parameters = {'max_depth': maxDepth}\n",
    "\n",
    "    grid = GridSearchCV(RandomForestClassifier(random_state=0, n_estimators=200, max_features='sqrt'), param_grid=tuned_parameters,cv=10) \n",
    "    grid.fit(X_train, y_train)\n",
    "\n",
    "    print(\"best mean cross-validation score: {:.3f}\".format(grid.best_score_))\n",
    "    print(\"best parameters: {}\".format(grid.best_params_))\n",
    "\n",
    "    scores = np.array(grid.cv_results_['mean_test_score'])\n",
    "    plt.plot(maxDepth,scores,'-o')\n",
    "    plt.xlabel('max_depth')\n",
    "    plt.ylabel('10-fold ACC')\n",
    "\n",
    "    plt.show()\n",
    "    \n",
    "    maxDepthOptimo = grid.best_params_['max_depth']\n",
    "    rdModel = RandomForestClassifier(max_depth=maxDepthOptimo,\n",
    "                                 n_estimators=200,max_features='sqrt').fit(X_train, y_train)\n",
    "\n",
    "    print(\"Train: \",rdModel.score(X_train, y_train))\n",
    "    print(\"Test:  \", rdModel.score(X_test, y_test))"
   ]
  },
  {
   "cell_type": "code",
   "execution_count": 65,
   "metadata": {},
   "outputs": [
    {
     "name": "stdout",
     "output_type": "stream",
     "text": [
      "best mean cross-validation score: 0.631\n",
      "best parameters: {'max_depth': 14}\n"
     ]
    },
    {
     "data": {
      "image/png": "[encoded data removed]",
      "text/plain": [
       "<Figure size 432x288 with 1 Axes>"
      ]
     },
     "metadata": {
      "needs_background": "light"
     },
     "output_type": "display_data"
    },
    {
     "name": "stdout",
     "output_type": "stream",
     "text": [
      "Train:  0.7176\n",
      "Test:   0.6222\n"
     ]
    }
   ],
   "source": [
    "# Probaremos con las técnicas en las que hemos aplicado filtrado de features \n",
    "# Modelo 1. CountVectorizer filter features \n",
    "optimal_rfmodel (15, X_train_cv_complex, amazon_train['sentiment_trilabel'], \n",
    "                     X_test_cv_complex, amazon_test['sentiment_trilabel'])"
   ]
  },
  {
   "cell_type": "code",
   "execution_count": 66,
   "metadata": {},
   "outputs": [
    {
     "name": "stdout",
     "output_type": "stream",
     "text": [
      "Train:  0.6582\n",
      "Test:  0.6232\n"
     ]
    }
   ],
   "source": [
    "# Probamos con otros valores de max_depth y optamos por el valor a 8\n",
    "rdModel = RandomForestClassifier(max_depth=8,\n",
    "                                 n_estimators=200,max_features='sqrt').fit(X_train_cv_complex,amazon_train['sentiment_trilabel'])\n",
    "\n",
    "print(\"Train: \",rdModel.score(X_train_cv_complex, amazon_train['sentiment_trilabel']))\n",
    "print(\"Test: \", rdModel.score(X_test_cv_complex, amazon_test['sentiment_trilabel']))"
   ]
  },
  {
   "cell_type": "markdown",
   "metadata": {},
   "source": [
    "    Con el max_depth óptimo = 14 (The maximum depth of the tree) se obtiene el siguiente resultado:\n",
    "\n",
    "        71.76% Train\n",
    "        62.22% Test\n",
    "\n",
    "    La profundidad del árbol es muy elevada para este resultados.\n",
    "    Probamos con max_depth 8 (65.82% Train y 62.32% Test), y consideramos este valor como bueno ya que de este modo simplificaríamos la complejidad del modelo."
   ]
  },
  {
   "cell_type": "code",
   "execution_count": 67,
   "metadata": {},
   "outputs": [
    {
     "name": "stdout",
     "output_type": "stream",
     "text": [
      "best mean cross-validation score: 0.622\n",
      "best parameters: {'max_depth': 14}\n"
     ]
    },
    {
     "data": {
      "image/png": "[encoded data removed]",
      "text/plain": [
       "<Figure size 432x288 with 1 Axes>"
      ]
     },
     "metadata": {
      "needs_background": "light"
     },
     "output_type": "display_data"
    },
    {
     "name": "stdout",
     "output_type": "stream",
     "text": [
      "Train:  0.6715333333333333\n",
      "Test:   0.6162\n"
     ]
    }
   ],
   "source": [
    "# Modelo 2. CountVectorizer filter features  + stop_words\n",
    "optimal_rfmodel (15, X_train_cv_complex_sw, amazon_train['sentiment_trilabel'], \n",
    "                     X_test_cv_complex_sw, amazon_test['sentiment_trilabel'])"
   ]
  },
  {
   "cell_type": "code",
   "execution_count": 68,
   "metadata": {},
   "outputs": [
    {
     "name": "stdout",
     "output_type": "stream",
     "text": [
      "Train:  0.6306666666666667\n",
      "Test:  0.6002\n"
     ]
    }
   ],
   "source": [
    "# Probamos con otros valores de max_depth pj para el valor a 8\n",
    "rdModel2 = RandomForestClassifier(max_depth=8,\n",
    "                                 n_estimators=200,max_features='sqrt').fit(X_train_cv_complex_sw,amazon_train['sentiment_trilabel'])\n",
    "\n",
    "print(\"Train: \",rdModel2.score(X_train_cv_complex_sw, amazon_train['sentiment_trilabel']))\n",
    "print(\"Test: \", rdModel2.score(X_test_cv_complex_sw, amazon_test['sentiment_trilabel']))"
   ]
  },
  {
   "cell_type": "markdown",
   "metadata": {},
   "source": [
    "                    CountVectorizer filter features           CountVectorizer filter features con stop_words\n",
    "\n",
    "    max_depth         14             8                              14             8\n",
    "    Train            71.76%        65.82%                          67.15%        63.06%\n",
    "    Test             62.22%        62.32%                          61.62%        60.02%   \n",
    "    \n",
    "    No son buenos resultados pero quiza optara por el primer modelo aunque exista overfitting\n",
    "    CountVectorizer filter features sin stop_words con max_depth a 8 + con un score de 62.32% para test y 66% aprox. para train reduciremos la complejidad del modelo."
   ]
  },
  {
   "cell_type": "code",
   "execution_count": 69,
   "metadata": {
    "scrolled": false
   },
   "outputs": [
    {
     "name": "stdout",
     "output_type": "stream",
     "text": [
      "best mean cross-validation score: 0.629\n",
      "best parameters: {'max_depth': 14}\n"
     ]
    },
    {
     "data": {
      "image/png": "[encoded data removed]",
      "text/plain": [
       "<Figure size 432x288 with 1 Axes>"
      ]
     },
     "metadata": {
      "needs_background": "light"
     },
     "output_type": "display_data"
    },
    {
     "name": "stdout",
     "output_type": "stream",
     "text": [
      "Train:  0.7189333333333333\n",
      "Test:   0.6284\n"
     ]
    }
   ],
   "source": [
    "# Modelo 3. Tfidf filter features  \n",
    "optimal_rfmodel (15, X_train_tfidf_complex, amazon_train['sentiment_trilabel'], \n",
    "                     X_test_tfidf_complex, amazon_test['sentiment_trilabel'])"
   ]
  },
  {
   "cell_type": "code",
   "execution_count": 70,
   "metadata": {},
   "outputs": [
    {
     "name": "stdout",
     "output_type": "stream",
     "text": [
      "Train:  0.6584\n",
      "Test:  0.6168\n"
     ]
    }
   ],
   "source": [
    "# Probamos con otros valores de max_depth pj para el valor a 8\n",
    "rdModel3 = RandomForestClassifier(max_depth=8,\n",
    "                                 n_estimators=200,max_features='sqrt').fit(X_train_tfidf_complex,amazon_train['sentiment_trilabel'])\n",
    "\n",
    "print(\"Train: \",rdModel3.score(X_train_tfidf_complex, amazon_train['sentiment_trilabel']))\n",
    "print(\"Test: \", rdModel3.score(X_test_tfidf_complex, amazon_test['sentiment_trilabel']))"
   ]
  },
  {
   "cell_type": "code",
   "execution_count": 71,
   "metadata": {},
   "outputs": [
    {
     "name": "stdout",
     "output_type": "stream",
     "text": [
      "best mean cross-validation score: 0.620\n",
      "best parameters: {'max_depth': 14}\n"
     ]
    },
    {
     "data": {
      "image/png": "[encoded data removed]",
      "text/plain": [
       "<Figure size 432x288 with 1 Axes>"
      ]
     },
     "metadata": {
      "needs_background": "light"
     },
     "output_type": "display_data"
    },
    {
     "name": "stdout",
     "output_type": "stream",
     "text": [
      "Train:  0.6791333333333334\n",
      "Test:   0.6212\n"
     ]
    }
   ],
   "source": [
    "# Modelo 4. Tfidf filter features  + stop_words\n",
    "optimal_rfmodel (15, X_train_tfidf_complex_sw, amazon_train['sentiment_trilabel'], \n",
    "                     X_test_tfidf_complex_sw, amazon_test['sentiment_trilabel'])"
   ]
  },
  {
   "cell_type": "code",
   "execution_count": 72,
   "metadata": {},
   "outputs": [
    {
     "name": "stdout",
     "output_type": "stream",
     "text": [
      "Train:  0.6497333333333334\n",
      "Test:  0.6148\n"
     ]
    }
   ],
   "source": [
    "# Probamos con otros valores de max_depth pj para el valor a 8\n",
    "rdModel4 = RandomForestClassifier(max_depth=8,\n",
    "                                 n_estimators=200,max_features='sqrt').fit(X_train_tfidf_complex_sw,amazon_train['sentiment_trilabel'])\n",
    "\n",
    "print(\"Train: \",rdModel4.score(X_train_tfidf_complex_sw, amazon_train['sentiment_trilabel']))\n",
    "print(\"Test: \", rdModel4.score(X_test_tfidf_complex_sw, amazon_test['sentiment_trilabel']))"
   ]
  },
  {
   "cell_type": "markdown",
   "metadata": {},
   "source": [
    "                    TfidfVectorizer filter features           TfidfVectorizer filter features con stop_words\n",
    "\n",
    "    max_depth         14             8                              14             8\n",
    "    Train            71.89%        65.84%                          67.91%        64.97%\n",
    "    Test             62.84%        61.68%                          62.12%        61.48%   \n",
    "    \n",
    "    En ambos casos el resultado es similar un 65-66% en train y 62% en test para max_depth = 8"
   ]
  },
  {
   "cell_type": "markdown",
   "metadata": {},
   "source": [
    "### Predicciones"
   ]
  },
  {
   "cell_type": "code",
   "execution_count": 73,
   "metadata": {},
   "outputs": [
    {
     "name": "stdout",
     "output_type": "stream",
     "text": [
      "\n",
      "Review no. 15378\n",
      "Actual sentiment: neg\n",
      "Prediction: ['neg']\n",
      "\n",
      "Review no. 7998\n",
      "Actual sentiment: neu\n",
      "Prediction: ['neg']\n",
      "\n",
      "Review no. 10930\n",
      "Actual sentiment: neg\n",
      "Prediction: ['neg']\n",
      "\n",
      "Review no. 5456\n",
      "Actual sentiment: neg\n",
      "Prediction: ['neg']\n",
      "\n",
      "Review no. 6462\n",
      "Actual sentiment: neg\n",
      "Prediction: ['neg']\n"
     ]
    }
   ],
   "source": [
    "# Aplicamos esta predicción sobre el modelo con mejores resultados CountVectorizer filter features sin aplicar stop_words\n",
    "# y para el modelo con max_depth=8\n",
    "for i in random.sample(range(0, len(df_amazon)), 5):\n",
    "    print('\\nReview no. {}'.format(i))\n",
    "    predict_review_sentiment(df_amazon, i, 'reviewText', 'sentiment_trilabel', rdModel, cv_complex)"
   ]
  },
  {
   "cell_type": "code",
   "execution_count": 74,
   "metadata": {},
   "outputs": [
    {
     "name": "stdout",
     "output_type": "stream",
     "text": [
      "\n",
      "Review no. 11073\n",
      "Actual sentiment: neg\n",
      "Prediction: ['neg']\n",
      "\n",
      "Review no. 19712\n",
      "Actual sentiment: pos\n",
      "Prediction: ['pos']\n",
      "\n",
      "Review no. 5681\n",
      "Actual sentiment: neg\n",
      "Prediction: ['pos']\n",
      "\n",
      "Review no. 1355\n",
      "Actual sentiment: neg\n",
      "Prediction: ['neg']\n",
      "\n",
      "Review no. 13268\n",
      "Actual sentiment: pos\n",
      "Prediction: ['pos']\n"
     ]
    }
   ],
   "source": [
    "# Aplicamos esta predicción sobre el modelo con mejores resultados TfidfVectorizer filter features sin aplicar stop_words\n",
    "# y para el modelo con max_depth=8\n",
    "for i in random.sample(range(0, len(df_amazon)), 5):\n",
    "    print('\\nReview no. {}'.format(i))\n",
    "    predict_review_sentiment(df_amazon, i, 'reviewText', 'sentiment_trilabel', rdModel3, tfidf_complex)"
   ]
  },
  {
   "cell_type": "markdown",
   "metadata": {},
   "source": [
    "Observamos que en la clasificación multiclase, algunas predicciones no han sido las esperadas en las Reviews no. 5681 y 7998"
   ]
  },
  {
   "cell_type": "markdown",
   "metadata": {},
   "source": [
    "### Conclusiones para el problema de clasificación multiclase"
   ]
  },
  {
   "cell_type": "markdown",
   "metadata": {},
   "source": [
    "    Aplicando estas técnicas para la extracción de carácterísticas\n",
    "\n",
    "    CountVectorizer filter features\n",
    "    TfidfVectorizer filter features\n",
    "\n",
    "    y sus combinaciones con stop_words junto con un modelo LogisticRegression para el problema de regresión multiclase.\n",
    "\n",
    "    Concluimos que el mejor resultado corresponde a la segunda técnica:\n",
    "\n",
    "    \"TfidfVectorizer filter features\" sin/con stop_words (accurary en test 62% y para  train 66%) con max_depth = 8"
   ]
  },
  {
   "cell_type": "markdown",
   "metadata": {},
   "source": [
    "### Conclusión "
   ]
  },
  {
   "cell_type": "markdown",
   "metadata": {},
   "source": [
    "    Partiendo del df_amazon combinado con 4 subsets balanceado respecto la columna overall, sin aplicar ningún procesado ni lematización.\n",
    "    \n",
    "    Para el problema de clasificación binaria, aplicamos estas técnicas para la extracción de carácterísticas:\n",
    "\n",
    "    - CountVectorizer simple\n",
    "    - CountVectorizer filter features\n",
    "    - TfidfVectorizer simple\n",
    "    - TfidfVectorizer filter features\n",
    "    y sus combinaciones con stop_words junto con un modelo LogisticRegression\n",
    "    \n",
    "    Para el problema de clasificación multiclase, aplicamos las técnicas:\n",
    "    - CountVectorizer filter features\n",
    "    - TfidfVectorizer filter features    \n",
    "    y sus combinaciones con stop_words junto con un modelo RandomForest.\n",
    "\n",
    "    Los mejores resultados han sido:\n",
    "    \n",
    "    - Clasificación binaria:    TfidfVectorizer filter features\" sin stop_words (accurary en test 78.36%)         \n",
    "    - Clasificación multiclase: TfidfVectorizer filter features\" sin stop_words (accurary en test 62% y para train 65%)    \n",
    "\n",
    "    Concluimos que se obtienen mejores resultados para el problema de clasificación binario ya que entendemos que es más \n",
    "    difícil la predicción de la clase neutra en la clasificación multiclase, tal y como se observan en el resultados \n",
    "    obtenidos."
   ]
  }
 ],
 "metadata": {
  "kernelspec": {
   "display_name": "Python 3",
   "language": "python",
   "name": "python3"
  },
  "language_info": {
   "codemirror_mode": {
    "name": "ipython",
    "version": 3
   },
   "file_extension": ".py",
   "mimetype": "text/x-python",
   "name": "python",
   "nbconvert_exporter": "python",
   "pygments_lexer": "ipython3",
   "version": "3.7.4"
  }
 },
 "nbformat": 4,
 "nbformat_minor": 2
}
